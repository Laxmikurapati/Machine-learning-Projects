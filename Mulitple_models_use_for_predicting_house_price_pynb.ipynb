{
  "nbformat": 4,
  "nbformat_minor": 0,
  "metadata": {
    "colab": {
      "provenance": [],
      "mount_file_id": "1pNmSrDwLBnOrKsafBs2rk36U9IF1VVia",
      "authorship_tag": "ABX9TyOBu+9AMQblH2HdjtG2aSlV",
      "include_colab_link": true
    },
    "kernelspec": {
      "name": "python3",
      "display_name": "Python 3"
    },
    "language_info": {
      "name": "python"
    }
  },
  "cells": [
    {
      "cell_type": "markdown",
      "metadata": {
        "id": "view-in-github",
        "colab_type": "text"
      },
      "source": [
        "<a href=\"https://colab.research.google.com/github/Laxmikurapati/Machine-learning-Projects/blob/main/Mulitple_models_use_for_predicting_house_price_pynb.ipynb\" target=\"_parent\"><img src=\"https://colab.research.google.com/assets/colab-badge.svg\" alt=\"Open In Colab\"/></a>"
      ]
    },
    {
      "cell_type": "markdown",
      "source": [
        "#1)Mounting Google drive for dataset \n",
        "\n",
        "\n",
        "\n"
      ],
      "metadata": {
        "id": "iRqf21pSHjRw"
      }
    },
    {
      "cell_type": "code",
      "execution_count": null,
      "metadata": {
        "id": "s5MUodVa548F"
      },
      "outputs": [],
      "source": [
        "from google.colab import drive"
      ]
    },
    {
      "cell_type": "code",
      "source": [
        "drive.mount('/content/drive')"
      ],
      "metadata": {
        "colab": {
          "base_uri": "https://localhost:8080/"
        },
        "id": "ZgeAuZV3wqu8",
        "outputId": "e6bf2b8d-648e-491a-806e-3c948135e9fa"
      },
      "execution_count": null,
      "outputs": [
        {
          "output_type": "stream",
          "name": "stdout",
          "text": [
            "Drive already mounted at /content/drive; to attempt to forcibly remount, call drive.mount(\"/content/drive\", force_remount=True).\n"
          ]
        }
      ]
    },
    {
      "cell_type": "markdown",
      "source": [
        "#2)Importing all packages "
      ],
      "metadata": {
        "id": "bFY7pS0iHs-q"
      }
    },
    {
      "cell_type": "code",
      "source": [
        "import pandas as pd\n",
        "import seaborn as sns\n",
        "import numpy as np\n",
        "from sklearn.linear_model import LinearRegression \n",
        "from sklearn import metrics \n",
        "import pandas as pd\n",
        "from sklearn.model_selection import train_test_split\n",
        "from sklearn.preprocessing import StandardScaler\n",
        "from sklearn.linear_model import Ridge\n",
        "from sklearn.pipeline import make_pipeline\n",
        "from sklearn.metrics import mean_squared_error, r2_score\n",
        "from sklearn.linear_model import Lasso\n",
        "!pip install tensorflow \n",
        "from openpyxl import Workbook,load_workbook\n",
        "import matplotlib.pyplot as plt\n",
        "from tensorflow.keras import Model\n",
        "from tensorflow.keras import Sequential\n",
        "from tensorflow.keras.optimizers import Adam\n",
        "from sklearn.preprocessing import StandardScaler\n",
        "from tensorflow.keras.layers import Dense, Dropout\n",
        "from sklearn.model_selection import train_test_split\n",
        "from tensorflow.keras.losses import MeanSquaredLogarithmicError\n",
        "from sklearn.tree import DecisionTreeRegressor \n",
        "from sklearn.ensemble import RandomForestRegressor\n",
        "from sklearn.neighbors import KNeighborsRegressor\n",
        "from sklearn.gaussian_process import GaussianProcessRegressor\n",
        "from sklearn.gaussian_process.kernels import RBF\n"
      ],
      "metadata": {
        "colab": {
          "base_uri": "https://localhost:8080/"
        },
        "id": "9Q-3OiUlw-zq",
        "outputId": "efa5e459-d1d4-4f61-8111-2e04eebce7ce"
      },
      "execution_count": null,
      "outputs": [
        {
          "output_type": "stream",
          "name": "stdout",
          "text": [
            "Looking in indexes: https://pypi.org/simple, https://us-python.pkg.dev/colab-wheels/public/simple/\n",
            "Requirement already satisfied: tensorflow in /usr/local/lib/python3.7/dist-packages (2.9.2)\n",
            "Requirement already satisfied: setuptools in /usr/local/lib/python3.7/dist-packages (from tensorflow) (57.4.0)\n",
            "Requirement already satisfied: opt-einsum>=2.3.2 in /usr/local/lib/python3.7/dist-packages (from tensorflow) (3.3.0)\n",
            "Requirement already satisfied: numpy>=1.20 in /usr/local/lib/python3.7/dist-packages (from tensorflow) (1.21.6)\n",
            "Requirement already satisfied: tensorflow-io-gcs-filesystem>=0.23.1 in /usr/local/lib/python3.7/dist-packages (from tensorflow) (0.27.0)\n",
            "Requirement already satisfied: protobuf<3.20,>=3.9.2 in /usr/local/lib/python3.7/dist-packages (from tensorflow) (3.19.6)\n",
            "Requirement already satisfied: six>=1.12.0 in /usr/local/lib/python3.7/dist-packages (from tensorflow) (1.15.0)\n",
            "Requirement already satisfied: flatbuffers<2,>=1.12 in /usr/local/lib/python3.7/dist-packages (from tensorflow) (1.12)\n",
            "Requirement already satisfied: typing-extensions>=3.6.6 in /usr/local/lib/python3.7/dist-packages (from tensorflow) (4.1.1)\n",
            "Requirement already satisfied: astunparse>=1.6.0 in /usr/local/lib/python3.7/dist-packages (from tensorflow) (1.6.3)\n",
            "Requirement already satisfied: grpcio<2.0,>=1.24.3 in /usr/local/lib/python3.7/dist-packages (from tensorflow) (1.50.0)\n",
            "Requirement already satisfied: google-pasta>=0.1.1 in /usr/local/lib/python3.7/dist-packages (from tensorflow) (0.2.0)\n",
            "Requirement already satisfied: absl-py>=1.0.0 in /usr/local/lib/python3.7/dist-packages (from tensorflow) (1.3.0)\n",
            "Requirement already satisfied: tensorboard<2.10,>=2.9 in /usr/local/lib/python3.7/dist-packages (from tensorflow) (2.9.1)\n",
            "Requirement already satisfied: tensorflow-estimator<2.10.0,>=2.9.0rc0 in /usr/local/lib/python3.7/dist-packages (from tensorflow) (2.9.0)\n",
            "Requirement already satisfied: termcolor>=1.1.0 in /usr/local/lib/python3.7/dist-packages (from tensorflow) (2.1.0)\n",
            "Requirement already satisfied: gast<=0.4.0,>=0.2.1 in /usr/local/lib/python3.7/dist-packages (from tensorflow) (0.4.0)\n",
            "Requirement already satisfied: keras-preprocessing>=1.1.1 in /usr/local/lib/python3.7/dist-packages (from tensorflow) (1.1.2)\n",
            "Requirement already satisfied: h5py>=2.9.0 in /usr/local/lib/python3.7/dist-packages (from tensorflow) (3.1.0)\n",
            "Requirement already satisfied: packaging in /usr/local/lib/python3.7/dist-packages (from tensorflow) (21.3)\n",
            "Requirement already satisfied: keras<2.10.0,>=2.9.0rc0 in /usr/local/lib/python3.7/dist-packages (from tensorflow) (2.9.0)\n",
            "Requirement already satisfied: wrapt>=1.11.0 in /usr/local/lib/python3.7/dist-packages (from tensorflow) (1.14.1)\n",
            "Requirement already satisfied: libclang>=13.0.0 in /usr/local/lib/python3.7/dist-packages (from tensorflow) (14.0.6)\n",
            "Requirement already satisfied: wheel<1.0,>=0.23.0 in /usr/local/lib/python3.7/dist-packages (from astunparse>=1.6.0->tensorflow) (0.38.4)\n",
            "Requirement already satisfied: cached-property in /usr/local/lib/python3.7/dist-packages (from h5py>=2.9.0->tensorflow) (1.5.2)\n",
            "Requirement already satisfied: requests<3,>=2.21.0 in /usr/local/lib/python3.7/dist-packages (from tensorboard<2.10,>=2.9->tensorflow) (2.23.0)\n",
            "Requirement already satisfied: google-auth<3,>=1.6.3 in /usr/local/lib/python3.7/dist-packages (from tensorboard<2.10,>=2.9->tensorflow) (2.14.1)\n",
            "Requirement already satisfied: tensorboard-data-server<0.7.0,>=0.6.0 in /usr/local/lib/python3.7/dist-packages (from tensorboard<2.10,>=2.9->tensorflow) (0.6.1)\n",
            "Requirement already satisfied: google-auth-oauthlib<0.5,>=0.4.1 in /usr/local/lib/python3.7/dist-packages (from tensorboard<2.10,>=2.9->tensorflow) (0.4.6)\n",
            "Requirement already satisfied: markdown>=2.6.8 in /usr/local/lib/python3.7/dist-packages (from tensorboard<2.10,>=2.9->tensorflow) (3.4.1)\n",
            "Requirement already satisfied: tensorboard-plugin-wit>=1.6.0 in /usr/local/lib/python3.7/dist-packages (from tensorboard<2.10,>=2.9->tensorflow) (1.8.1)\n",
            "Requirement already satisfied: werkzeug>=1.0.1 in /usr/local/lib/python3.7/dist-packages (from tensorboard<2.10,>=2.9->tensorflow) (1.0.1)\n",
            "Requirement already satisfied: cachetools<6.0,>=2.0.0 in /usr/local/lib/python3.7/dist-packages (from google-auth<3,>=1.6.3->tensorboard<2.10,>=2.9->tensorflow) (5.2.0)\n",
            "Requirement already satisfied: pyasn1-modules>=0.2.1 in /usr/local/lib/python3.7/dist-packages (from google-auth<3,>=1.6.3->tensorboard<2.10,>=2.9->tensorflow) (0.2.8)\n",
            "Requirement already satisfied: rsa<5,>=3.1.4 in /usr/local/lib/python3.7/dist-packages (from google-auth<3,>=1.6.3->tensorboard<2.10,>=2.9->tensorflow) (4.9)\n",
            "Requirement already satisfied: requests-oauthlib>=0.7.0 in /usr/local/lib/python3.7/dist-packages (from google-auth-oauthlib<0.5,>=0.4.1->tensorboard<2.10,>=2.9->tensorflow) (1.3.1)\n",
            "Requirement already satisfied: importlib-metadata>=4.4 in /usr/local/lib/python3.7/dist-packages (from markdown>=2.6.8->tensorboard<2.10,>=2.9->tensorflow) (4.13.0)\n",
            "Requirement already satisfied: zipp>=0.5 in /usr/local/lib/python3.7/dist-packages (from importlib-metadata>=4.4->markdown>=2.6.8->tensorboard<2.10,>=2.9->tensorflow) (3.10.0)\n",
            "Requirement already satisfied: pyasn1<0.5.0,>=0.4.6 in /usr/local/lib/python3.7/dist-packages (from pyasn1-modules>=0.2.1->google-auth<3,>=1.6.3->tensorboard<2.10,>=2.9->tensorflow) (0.4.8)\n",
            "Requirement already satisfied: certifi>=2017.4.17 in /usr/local/lib/python3.7/dist-packages (from requests<3,>=2.21.0->tensorboard<2.10,>=2.9->tensorflow) (2022.9.24)\n",
            "Requirement already satisfied: chardet<4,>=3.0.2 in /usr/local/lib/python3.7/dist-packages (from requests<3,>=2.21.0->tensorboard<2.10,>=2.9->tensorflow) (3.0.4)\n",
            "Requirement already satisfied: urllib3!=1.25.0,!=1.25.1,<1.26,>=1.21.1 in /usr/local/lib/python3.7/dist-packages (from requests<3,>=2.21.0->tensorboard<2.10,>=2.9->tensorflow) (1.24.3)\n",
            "Requirement already satisfied: idna<3,>=2.5 in /usr/local/lib/python3.7/dist-packages (from requests<3,>=2.21.0->tensorboard<2.10,>=2.9->tensorflow) (2.10)\n",
            "Requirement already satisfied: oauthlib>=3.0.0 in /usr/local/lib/python3.7/dist-packages (from requests-oauthlib>=0.7.0->google-auth-oauthlib<0.5,>=0.4.1->tensorboard<2.10,>=2.9->tensorflow) (3.2.2)\n",
            "Requirement already satisfied: pyparsing!=3.0.5,>=2.0.2 in /usr/local/lib/python3.7/dist-packages (from packaging->tensorflow) (3.0.9)\n"
          ]
        }
      ]
    },
    {
      "cell_type": "markdown",
      "source": [
        "#3)Importing Dataset "
      ],
      "metadata": {
        "id": "oA_NFjLmH5D_"
      }
    },
    {
      "cell_type": "code",
      "source": [
        "df=pd.read_excel(\"/content/drive/MyDrive/DS_Part_1/DS - Assignment Part 1 data set.xlsx\")"
      ],
      "metadata": {
        "id": "2wT4v2gNH1yb"
      },
      "execution_count": null,
      "outputs": []
    },
    {
      "cell_type": "code",
      "source": [
        "df.head()"
      ],
      "metadata": {
        "colab": {
          "base_uri": "https://localhost:8080/",
          "height": 206
        },
        "id": "2gPDOkt_xOSr",
        "outputId": "85840401-ea09-4c9c-d9bd-1a2637e197ad"
      },
      "execution_count": null,
      "outputs": [
        {
          "output_type": "execute_result",
          "data": {
            "text/plain": [
              "   Transaction date  House Age  Distance from nearest Metro station (km)  \\\n",
              "0       2012.916667       32.0                                  84.87882   \n",
              "1       2012.916667       19.5                                 306.59470   \n",
              "2       2013.583333       13.3                                 561.98450   \n",
              "3       2013.500000       13.3                                 561.98450   \n",
              "4       2012.833333        5.0                                 390.56840   \n",
              "\n",
              "   Number of convenience stores  latitude  longitude  Number of bedrooms  \\\n",
              "0                            10  24.98298  121.54024                   1   \n",
              "1                             9  24.98034  121.53951                   2   \n",
              "2                             5  24.98746  121.54391                   3   \n",
              "3                             5  24.98746  121.54391                   2   \n",
              "4                             5  24.97937  121.54245                   1   \n",
              "\n",
              "   House size (sqft)  House price of unit area  \n",
              "0                575                      37.9  \n",
              "1               1240                      42.2  \n",
              "2               1060                      47.3  \n",
              "3                875                      54.8  \n",
              "4                491                      43.1  "
            ],
            "text/html": [
              "\n",
              "  <div id=\"df-eeca9c02-bda9-48c2-a699-c49e816c695f\">\n",
              "    <div class=\"colab-df-container\">\n",
              "      <div>\n",
              "<style scoped>\n",
              "    .dataframe tbody tr th:only-of-type {\n",
              "        vertical-align: middle;\n",
              "    }\n",
              "\n",
              "    .dataframe tbody tr th {\n",
              "        vertical-align: top;\n",
              "    }\n",
              "\n",
              "    .dataframe thead th {\n",
              "        text-align: right;\n",
              "    }\n",
              "</style>\n",
              "<table border=\"1\" class=\"dataframe\">\n",
              "  <thead>\n",
              "    <tr style=\"text-align: right;\">\n",
              "      <th></th>\n",
              "      <th>Transaction date</th>\n",
              "      <th>House Age</th>\n",
              "      <th>Distance from nearest Metro station (km)</th>\n",
              "      <th>Number of convenience stores</th>\n",
              "      <th>latitude</th>\n",
              "      <th>longitude</th>\n",
              "      <th>Number of bedrooms</th>\n",
              "      <th>House size (sqft)</th>\n",
              "      <th>House price of unit area</th>\n",
              "    </tr>\n",
              "  </thead>\n",
              "  <tbody>\n",
              "    <tr>\n",
              "      <th>0</th>\n",
              "      <td>2012.916667</td>\n",
              "      <td>32.0</td>\n",
              "      <td>84.87882</td>\n",
              "      <td>10</td>\n",
              "      <td>24.98298</td>\n",
              "      <td>121.54024</td>\n",
              "      <td>1</td>\n",
              "      <td>575</td>\n",
              "      <td>37.9</td>\n",
              "    </tr>\n",
              "    <tr>\n",
              "      <th>1</th>\n",
              "      <td>2012.916667</td>\n",
              "      <td>19.5</td>\n",
              "      <td>306.59470</td>\n",
              "      <td>9</td>\n",
              "      <td>24.98034</td>\n",
              "      <td>121.53951</td>\n",
              "      <td>2</td>\n",
              "      <td>1240</td>\n",
              "      <td>42.2</td>\n",
              "    </tr>\n",
              "    <tr>\n",
              "      <th>2</th>\n",
              "      <td>2013.583333</td>\n",
              "      <td>13.3</td>\n",
              "      <td>561.98450</td>\n",
              "      <td>5</td>\n",
              "      <td>24.98746</td>\n",
              "      <td>121.54391</td>\n",
              "      <td>3</td>\n",
              "      <td>1060</td>\n",
              "      <td>47.3</td>\n",
              "    </tr>\n",
              "    <tr>\n",
              "      <th>3</th>\n",
              "      <td>2013.500000</td>\n",
              "      <td>13.3</td>\n",
              "      <td>561.98450</td>\n",
              "      <td>5</td>\n",
              "      <td>24.98746</td>\n",
              "      <td>121.54391</td>\n",
              "      <td>2</td>\n",
              "      <td>875</td>\n",
              "      <td>54.8</td>\n",
              "    </tr>\n",
              "    <tr>\n",
              "      <th>4</th>\n",
              "      <td>2012.833333</td>\n",
              "      <td>5.0</td>\n",
              "      <td>390.56840</td>\n",
              "      <td>5</td>\n",
              "      <td>24.97937</td>\n",
              "      <td>121.54245</td>\n",
              "      <td>1</td>\n",
              "      <td>491</td>\n",
              "      <td>43.1</td>\n",
              "    </tr>\n",
              "  </tbody>\n",
              "</table>\n",
              "</div>\n",
              "      <button class=\"colab-df-convert\" onclick=\"convertToInteractive('df-eeca9c02-bda9-48c2-a699-c49e816c695f')\"\n",
              "              title=\"Convert this dataframe to an interactive table.\"\n",
              "              style=\"display:none;\">\n",
              "        \n",
              "  <svg xmlns=\"http://www.w3.org/2000/svg\" height=\"24px\"viewBox=\"0 0 24 24\"\n",
              "       width=\"24px\">\n",
              "    <path d=\"M0 0h24v24H0V0z\" fill=\"none\"/>\n",
              "    <path d=\"M18.56 5.44l.94 2.06.94-2.06 2.06-.94-2.06-.94-.94-2.06-.94 2.06-2.06.94zm-11 1L8.5 8.5l.94-2.06 2.06-.94-2.06-.94L8.5 2.5l-.94 2.06-2.06.94zm10 10l.94 2.06.94-2.06 2.06-.94-2.06-.94-.94-2.06-.94 2.06-2.06.94z\"/><path d=\"M17.41 7.96l-1.37-1.37c-.4-.4-.92-.59-1.43-.59-.52 0-1.04.2-1.43.59L10.3 9.45l-7.72 7.72c-.78.78-.78 2.05 0 2.83L4 21.41c.39.39.9.59 1.41.59.51 0 1.02-.2 1.41-.59l7.78-7.78 2.81-2.81c.8-.78.8-2.07 0-2.86zM5.41 20L4 18.59l7.72-7.72 1.47 1.35L5.41 20z\"/>\n",
              "  </svg>\n",
              "      </button>\n",
              "      \n",
              "  <style>\n",
              "    .colab-df-container {\n",
              "      display:flex;\n",
              "      flex-wrap:wrap;\n",
              "      gap: 12px;\n",
              "    }\n",
              "\n",
              "    .colab-df-convert {\n",
              "      background-color: #E8F0FE;\n",
              "      border: none;\n",
              "      border-radius: 50%;\n",
              "      cursor: pointer;\n",
              "      display: none;\n",
              "      fill: #1967D2;\n",
              "      height: 32px;\n",
              "      padding: 0 0 0 0;\n",
              "      width: 32px;\n",
              "    }\n",
              "\n",
              "    .colab-df-convert:hover {\n",
              "      background-color: #E2EBFA;\n",
              "      box-shadow: 0px 1px 2px rgba(60, 64, 67, 0.3), 0px 1px 3px 1px rgba(60, 64, 67, 0.15);\n",
              "      fill: #174EA6;\n",
              "    }\n",
              "\n",
              "    [theme=dark] .colab-df-convert {\n",
              "      background-color: #3B4455;\n",
              "      fill: #D2E3FC;\n",
              "    }\n",
              "\n",
              "    [theme=dark] .colab-df-convert:hover {\n",
              "      background-color: #434B5C;\n",
              "      box-shadow: 0px 1px 3px 1px rgba(0, 0, 0, 0.15);\n",
              "      filter: drop-shadow(0px 1px 2px rgba(0, 0, 0, 0.3));\n",
              "      fill: #FFFFFF;\n",
              "    }\n",
              "  </style>\n",
              "\n",
              "      <script>\n",
              "        const buttonEl =\n",
              "          document.querySelector('#df-eeca9c02-bda9-48c2-a699-c49e816c695f button.colab-df-convert');\n",
              "        buttonEl.style.display =\n",
              "          google.colab.kernel.accessAllowed ? 'block' : 'none';\n",
              "\n",
              "        async function convertToInteractive(key) {\n",
              "          const element = document.querySelector('#df-eeca9c02-bda9-48c2-a699-c49e816c695f');\n",
              "          const dataTable =\n",
              "            await google.colab.kernel.invokeFunction('convertToInteractive',\n",
              "                                                     [key], {});\n",
              "          if (!dataTable) return;\n",
              "\n",
              "          const docLinkHtml = 'Like what you see? Visit the ' +\n",
              "            '<a target=\"_blank\" href=https://colab.research.google.com/notebooks/data_table.ipynb>data table notebook</a>'\n",
              "            + ' to learn more about interactive tables.';\n",
              "          element.innerHTML = '';\n",
              "          dataTable['output_type'] = 'display_data';\n",
              "          await google.colab.output.renderOutput(dataTable, element);\n",
              "          const docLink = document.createElement('div');\n",
              "          docLink.innerHTML = docLinkHtml;\n",
              "          element.appendChild(docLink);\n",
              "        }\n",
              "      </script>\n",
              "    </div>\n",
              "  </div>\n",
              "  "
            ]
          },
          "metadata": {},
          "execution_count": 5
        }
      ]
    },
    {
      "cell_type": "markdown",
      "source": [
        "#4)Analysing Correlation between features "
      ],
      "metadata": {
        "id": "6p6VDh89IFzL"
      }
    },
    {
      "cell_type": "code",
      "source": [
        "#Description of dataset\n",
        "df.describe()"
      ],
      "metadata": {
        "colab": {
          "base_uri": "https://localhost:8080/",
          "height": 344
        },
        "id": "KHQYAnPPxRB2",
        "outputId": "595f4cb1-e6c0-4da1-a228-81f9920e63fc"
      },
      "execution_count": null,
      "outputs": [
        {
          "output_type": "execute_result",
          "data": {
            "text/plain": [
              "       Transaction date   House Age  Distance from nearest Metro station (km)  \\\n",
              "count        414.000000  414.000000                                414.000000   \n",
              "mean        2013.148953   17.712560                               1083.885689   \n",
              "std            0.281995   11.392485                               1262.109595   \n",
              "min         2012.666667    0.000000                                 23.382840   \n",
              "25%         2012.916667    9.025000                                289.324800   \n",
              "50%         2013.166667   16.100000                                492.231300   \n",
              "75%         2013.416667   28.150000                               1454.279000   \n",
              "max         2013.583333   43.800000                               6488.021000   \n",
              "\n",
              "       Number of convenience stores    latitude   longitude  \\\n",
              "count                    414.000000  414.000000  414.000000   \n",
              "mean                       4.094203   24.969030  121.533361   \n",
              "std                        2.945562    0.012410    0.015347   \n",
              "min                        0.000000   24.932070  121.473530   \n",
              "25%                        1.000000   24.963000  121.528085   \n",
              "50%                        4.000000   24.971100  121.538630   \n",
              "75%                        6.000000   24.977455  121.543305   \n",
              "max                       10.000000   25.014590  121.566270   \n",
              "\n",
              "       Number of bedrooms  House size (sqft)  House price of unit area  \n",
              "count          414.000000         414.000000                414.000000  \n",
              "mean             1.987923         931.475845                 37.980193  \n",
              "std              0.818875         348.910269                 13.606488  \n",
              "min              1.000000         402.000000                  7.600000  \n",
              "25%              1.000000         548.000000                 27.700000  \n",
              "50%              2.000000         975.000000                 38.450000  \n",
              "75%              3.000000        1234.750000                 46.600000  \n",
              "max              3.000000        1500.000000                117.500000  "
            ],
            "text/html": [
              "\n",
              "  <div id=\"df-7c963b9f-49e6-429e-bc02-bb1c2b06dd5d\">\n",
              "    <div class=\"colab-df-container\">\n",
              "      <div>\n",
              "<style scoped>\n",
              "    .dataframe tbody tr th:only-of-type {\n",
              "        vertical-align: middle;\n",
              "    }\n",
              "\n",
              "    .dataframe tbody tr th {\n",
              "        vertical-align: top;\n",
              "    }\n",
              "\n",
              "    .dataframe thead th {\n",
              "        text-align: right;\n",
              "    }\n",
              "</style>\n",
              "<table border=\"1\" class=\"dataframe\">\n",
              "  <thead>\n",
              "    <tr style=\"text-align: right;\">\n",
              "      <th></th>\n",
              "      <th>Transaction date</th>\n",
              "      <th>House Age</th>\n",
              "      <th>Distance from nearest Metro station (km)</th>\n",
              "      <th>Number of convenience stores</th>\n",
              "      <th>latitude</th>\n",
              "      <th>longitude</th>\n",
              "      <th>Number of bedrooms</th>\n",
              "      <th>House size (sqft)</th>\n",
              "      <th>House price of unit area</th>\n",
              "    </tr>\n",
              "  </thead>\n",
              "  <tbody>\n",
              "    <tr>\n",
              "      <th>count</th>\n",
              "      <td>414.000000</td>\n",
              "      <td>414.000000</td>\n",
              "      <td>414.000000</td>\n",
              "      <td>414.000000</td>\n",
              "      <td>414.000000</td>\n",
              "      <td>414.000000</td>\n",
              "      <td>414.000000</td>\n",
              "      <td>414.000000</td>\n",
              "      <td>414.000000</td>\n",
              "    </tr>\n",
              "    <tr>\n",
              "      <th>mean</th>\n",
              "      <td>2013.148953</td>\n",
              "      <td>17.712560</td>\n",
              "      <td>1083.885689</td>\n",
              "      <td>4.094203</td>\n",
              "      <td>24.969030</td>\n",
              "      <td>121.533361</td>\n",
              "      <td>1.987923</td>\n",
              "      <td>931.475845</td>\n",
              "      <td>37.980193</td>\n",
              "    </tr>\n",
              "    <tr>\n",
              "      <th>std</th>\n",
              "      <td>0.281995</td>\n",
              "      <td>11.392485</td>\n",
              "      <td>1262.109595</td>\n",
              "      <td>2.945562</td>\n",
              "      <td>0.012410</td>\n",
              "      <td>0.015347</td>\n",
              "      <td>0.818875</td>\n",
              "      <td>348.910269</td>\n",
              "      <td>13.606488</td>\n",
              "    </tr>\n",
              "    <tr>\n",
              "      <th>min</th>\n",
              "      <td>2012.666667</td>\n",
              "      <td>0.000000</td>\n",
              "      <td>23.382840</td>\n",
              "      <td>0.000000</td>\n",
              "      <td>24.932070</td>\n",
              "      <td>121.473530</td>\n",
              "      <td>1.000000</td>\n",
              "      <td>402.000000</td>\n",
              "      <td>7.600000</td>\n",
              "    </tr>\n",
              "    <tr>\n",
              "      <th>25%</th>\n",
              "      <td>2012.916667</td>\n",
              "      <td>9.025000</td>\n",
              "      <td>289.324800</td>\n",
              "      <td>1.000000</td>\n",
              "      <td>24.963000</td>\n",
              "      <td>121.528085</td>\n",
              "      <td>1.000000</td>\n",
              "      <td>548.000000</td>\n",
              "      <td>27.700000</td>\n",
              "    </tr>\n",
              "    <tr>\n",
              "      <th>50%</th>\n",
              "      <td>2013.166667</td>\n",
              "      <td>16.100000</td>\n",
              "      <td>492.231300</td>\n",
              "      <td>4.000000</td>\n",
              "      <td>24.971100</td>\n",
              "      <td>121.538630</td>\n",
              "      <td>2.000000</td>\n",
              "      <td>975.000000</td>\n",
              "      <td>38.450000</td>\n",
              "    </tr>\n",
              "    <tr>\n",
              "      <th>75%</th>\n",
              "      <td>2013.416667</td>\n",
              "      <td>28.150000</td>\n",
              "      <td>1454.279000</td>\n",
              "      <td>6.000000</td>\n",
              "      <td>24.977455</td>\n",
              "      <td>121.543305</td>\n",
              "      <td>3.000000</td>\n",
              "      <td>1234.750000</td>\n",
              "      <td>46.600000</td>\n",
              "    </tr>\n",
              "    <tr>\n",
              "      <th>max</th>\n",
              "      <td>2013.583333</td>\n",
              "      <td>43.800000</td>\n",
              "      <td>6488.021000</td>\n",
              "      <td>10.000000</td>\n",
              "      <td>25.014590</td>\n",
              "      <td>121.566270</td>\n",
              "      <td>3.000000</td>\n",
              "      <td>1500.000000</td>\n",
              "      <td>117.500000</td>\n",
              "    </tr>\n",
              "  </tbody>\n",
              "</table>\n",
              "</div>\n",
              "      <button class=\"colab-df-convert\" onclick=\"convertToInteractive('df-7c963b9f-49e6-429e-bc02-bb1c2b06dd5d')\"\n",
              "              title=\"Convert this dataframe to an interactive table.\"\n",
              "              style=\"display:none;\">\n",
              "        \n",
              "  <svg xmlns=\"http://www.w3.org/2000/svg\" height=\"24px\"viewBox=\"0 0 24 24\"\n",
              "       width=\"24px\">\n",
              "    <path d=\"M0 0h24v24H0V0z\" fill=\"none\"/>\n",
              "    <path d=\"M18.56 5.44l.94 2.06.94-2.06 2.06-.94-2.06-.94-.94-2.06-.94 2.06-2.06.94zm-11 1L8.5 8.5l.94-2.06 2.06-.94-2.06-.94L8.5 2.5l-.94 2.06-2.06.94zm10 10l.94 2.06.94-2.06 2.06-.94-2.06-.94-.94-2.06-.94 2.06-2.06.94z\"/><path d=\"M17.41 7.96l-1.37-1.37c-.4-.4-.92-.59-1.43-.59-.52 0-1.04.2-1.43.59L10.3 9.45l-7.72 7.72c-.78.78-.78 2.05 0 2.83L4 21.41c.39.39.9.59 1.41.59.51 0 1.02-.2 1.41-.59l7.78-7.78 2.81-2.81c.8-.78.8-2.07 0-2.86zM5.41 20L4 18.59l7.72-7.72 1.47 1.35L5.41 20z\"/>\n",
              "  </svg>\n",
              "      </button>\n",
              "      \n",
              "  <style>\n",
              "    .colab-df-container {\n",
              "      display:flex;\n",
              "      flex-wrap:wrap;\n",
              "      gap: 12px;\n",
              "    }\n",
              "\n",
              "    .colab-df-convert {\n",
              "      background-color: #E8F0FE;\n",
              "      border: none;\n",
              "      border-radius: 50%;\n",
              "      cursor: pointer;\n",
              "      display: none;\n",
              "      fill: #1967D2;\n",
              "      height: 32px;\n",
              "      padding: 0 0 0 0;\n",
              "      width: 32px;\n",
              "    }\n",
              "\n",
              "    .colab-df-convert:hover {\n",
              "      background-color: #E2EBFA;\n",
              "      box-shadow: 0px 1px 2px rgba(60, 64, 67, 0.3), 0px 1px 3px 1px rgba(60, 64, 67, 0.15);\n",
              "      fill: #174EA6;\n",
              "    }\n",
              "\n",
              "    [theme=dark] .colab-df-convert {\n",
              "      background-color: #3B4455;\n",
              "      fill: #D2E3FC;\n",
              "    }\n",
              "\n",
              "    [theme=dark] .colab-df-convert:hover {\n",
              "      background-color: #434B5C;\n",
              "      box-shadow: 0px 1px 3px 1px rgba(0, 0, 0, 0.15);\n",
              "      filter: drop-shadow(0px 1px 2px rgba(0, 0, 0, 0.3));\n",
              "      fill: #FFFFFF;\n",
              "    }\n",
              "  </style>\n",
              "\n",
              "      <script>\n",
              "        const buttonEl =\n",
              "          document.querySelector('#df-7c963b9f-49e6-429e-bc02-bb1c2b06dd5d button.colab-df-convert');\n",
              "        buttonEl.style.display =\n",
              "          google.colab.kernel.accessAllowed ? 'block' : 'none';\n",
              "\n",
              "        async function convertToInteractive(key) {\n",
              "          const element = document.querySelector('#df-7c963b9f-49e6-429e-bc02-bb1c2b06dd5d');\n",
              "          const dataTable =\n",
              "            await google.colab.kernel.invokeFunction('convertToInteractive',\n",
              "                                                     [key], {});\n",
              "          if (!dataTable) return;\n",
              "\n",
              "          const docLinkHtml = 'Like what you see? Visit the ' +\n",
              "            '<a target=\"_blank\" href=https://colab.research.google.com/notebooks/data_table.ipynb>data table notebook</a>'\n",
              "            + ' to learn more about interactive tables.';\n",
              "          element.innerHTML = '';\n",
              "          dataTable['output_type'] = 'display_data';\n",
              "          await google.colab.output.renderOutput(dataTable, element);\n",
              "          const docLink = document.createElement('div');\n",
              "          docLink.innerHTML = docLinkHtml;\n",
              "          element.appendChild(docLink);\n",
              "        }\n",
              "      </script>\n",
              "    </div>\n",
              "  </div>\n",
              "  "
            ]
          },
          "metadata": {},
          "execution_count": 6
        }
      ]
    },
    {
      "cell_type": "code",
      "source": [
        "#Finding total null value in all columns \n",
        "df.isnull().sum()"
      ],
      "metadata": {
        "colab": {
          "base_uri": "https://localhost:8080/"
        },
        "id": "K2_CqcQDxVV6",
        "outputId": "ce62503d-d4b8-4ddc-d305-442583e06af8"
      },
      "execution_count": null,
      "outputs": [
        {
          "output_type": "execute_result",
          "data": {
            "text/plain": [
              "Transaction date                            0\n",
              "House Age                                   0\n",
              "Distance from nearest Metro station (km)    0\n",
              "Number of convenience stores                0\n",
              "latitude                                    0\n",
              "longitude                                   0\n",
              "Number of bedrooms                          0\n",
              "House size (sqft)                           0\n",
              "House price of unit area                    0\n",
              "dtype: int64"
            ]
          },
          "metadata": {},
          "execution_count": 7
        }
      ]
    },
    {
      "cell_type": "code",
      "source": [
        "#Dataset Shape \n",
        "df.shape"
      ],
      "metadata": {
        "colab": {
          "base_uri": "https://localhost:8080/"
        },
        "id": "g0F3GTuQxZIb",
        "outputId": "09041a36-57eb-4d09-ac62-034b96fd7930"
      },
      "execution_count": null,
      "outputs": [
        {
          "output_type": "execute_result",
          "data": {
            "text/plain": [
              "(414, 9)"
            ]
          },
          "metadata": {},
          "execution_count": 8
        }
      ]
    },
    {
      "cell_type": "code",
      "source": [
        "#Heat Map for finding the positive and negative correlation between features \n",
        "plt.figure(figsize=((10,10)))\n",
        "sns.heatmap(np.round(df.corr(),2),annot=True,cmap='BuPu')\n"
      ],
      "metadata": {
        "colab": {
          "base_uri": "https://localhost:8080/",
          "height": 809
        },
        "id": "QC0BT49-xj9-",
        "outputId": "e27e79f8-82a5-4039-e748-778caf10a6a0"
      },
      "execution_count": null,
      "outputs": [
        {
          "output_type": "execute_result",
          "data": {
            "text/plain": [
              "<matplotlib.axes._subplots.AxesSubplot at 0x7fb88b554390>"
            ]
          },
          "metadata": {},
          "execution_count": 9
        },
        {
          "output_type": "display_data",
          "data": {
            "text/plain": [
              "<Figure size 720x720 with 2 Axes>"
            ],
            "image/png": "[encoded data removed]"
          },
          "metadata": {
            "needs_background": "light"
          }
        }
      ]
    },
    {
      "cell_type": "markdown",
      "source": [
        "Now let's see separately how house price varies with various features \n",
        "\n",
        "\n",
        "\n"
      ],
      "metadata": {
        "id": "CLeOadEPJPp2"
      }
    },
    {
      "cell_type": "code",
      "source": [
        "#1)Transaction date\n",
        "sns.relplot(data=df, x=\"Transaction date\", y=\"House price of unit area\", kind=\"line\")"
      ],
      "metadata": {
        "colab": {
          "base_uri": "https://localhost:8080/",
          "height": 386
        },
        "id": "sHzRhOqOz5hs",
        "outputId": "bfb34c7c-19c2-4b3c-fdc4-3aab554b86b3"
      },
      "execution_count": null,
      "outputs": [
        {
          "output_type": "execute_result",
          "data": {
            "text/plain": [
              "<seaborn.axisgrid.FacetGrid at 0x7fb88b402710>"
            ]
          },
          "metadata": {},
          "execution_count": 10
        },
        {
          "output_type": "display_data",
          "data": {
            "text/plain": [
              "<Figure size 360x360 with 1 Axes>"
            ],
            "image/png": "[encoded data removed]"
          },
          "metadata": {
            "needs_background": "light"
          }
        }
      ]
    },
    {
      "cell_type": "code",
      "source": [
        "#2)House Age\n",
        "sns.relplot(data=df, x=\"House Age\", y=\"House price of unit area\", kind=\"line\")"
      ],
      "metadata": {
        "colab": {
          "base_uri": "https://localhost:8080/",
          "height": 386
        },
        "id": "lwqVrZM10oTb",
        "outputId": "8e73b400-0e73-4904-e6b9-6f88676e2c6c"
      },
      "execution_count": null,
      "outputs": [
        {
          "output_type": "execute_result",
          "data": {
            "text/plain": [
              "<seaborn.axisgrid.FacetGrid at 0x7fb888b0f910>"
            ]
          },
          "metadata": {},
          "execution_count": 11
        },
        {
          "output_type": "display_data",
          "data": {
            "text/plain": [
              "<Figure size 360x360 with 1 Axes>"
            ],
            "image/png": "[encoded data removed]"
          },
          "metadata": {
            "needs_background": "light"
          }
        }
      ]
    },
    {
      "cell_type": "code",
      "source": [
        "#3)Distance from nearest Metro station (km)\n",
        "sns.relplot(data=df, x=\"Distance from nearest Metro station (km)\", y=\"House price of unit area\", kind=\"line\")"
      ],
      "metadata": {
        "colab": {
          "base_uri": "https://localhost:8080/",
          "height": 386
        },
        "id": "xqoeInUz0z39",
        "outputId": "ed370712-17ec-4cb1-f0b4-5a2f6ab6140d"
      },
      "execution_count": null,
      "outputs": [
        {
          "output_type": "execute_result",
          "data": {
            "text/plain": [
              "<seaborn.axisgrid.FacetGrid at 0x7fb886d88190>"
            ]
          },
          "metadata": {},
          "execution_count": 12
        },
        {
          "output_type": "display_data",
          "data": {
            "text/plain": [
              "<Figure size 360x360 with 1 Axes>"
            ],
            "image/png": "[encoded data removed]"
          },
          "metadata": {
            "needs_background": "light"
          }
        }
      ]
    },
    {
      "cell_type": "code",
      "source": [
        "#4)Number of convenience stores\n",
        "sns.relplot(data=df, x=\"Number of convenience stores\", y=\"House price of unit area\", kind=\"line\")"
      ],
      "metadata": {
        "colab": {
          "base_uri": "https://localhost:8080/",
          "height": 386
        },
        "id": "8F1L1GnQJyqd",
        "outputId": "7ff880d4-b1f1-4dbf-b624-341df7f1a559"
      },
      "execution_count": null,
      "outputs": [
        {
          "output_type": "execute_result",
          "data": {
            "text/plain": [
              "<seaborn.axisgrid.FacetGrid at 0x7fb886cb92d0>"
            ]
          },
          "metadata": {},
          "execution_count": 13
        },
        {
          "output_type": "display_data",
          "data": {
            "text/plain": [
              "<Figure size 360x360 with 1 Axes>"
            ],
            "image/png": "[encoded data removed]"
          },
          "metadata": {
            "needs_background": "light"
          }
        }
      ]
    },
    {
      "cell_type": "code",
      "source": [
        "#5)latitude\n",
        "sns.relplot(data=df, x=\"latitude\", y=\"House price of unit area\", kind=\"line\")"
      ],
      "metadata": {
        "colab": {
          "base_uri": "https://localhost:8080/",
          "height": 386
        },
        "id": "LZ18wQd9KCyO",
        "outputId": "05ad7249-52f0-4cfe-e792-ac0decc35e59"
      },
      "execution_count": null,
      "outputs": [
        {
          "output_type": "execute_result",
          "data": {
            "text/plain": [
              "<seaborn.axisgrid.FacetGrid at 0x7fb886c7d710>"
            ]
          },
          "metadata": {},
          "execution_count": 14
        },
        {
          "output_type": "display_data",
          "data": {
            "text/plain": [
              "<Figure size 360x360 with 1 Axes>"
            ],
            "image/png": "[encoded data removed]"
          },
          "metadata": {
            "needs_background": "light"
          }
        }
      ]
    },
    {
      "cell_type": "code",
      "source": [
        "#6)longitude\n",
        "sns.relplot(data=df, x=\"longitude\", y=\"House price of unit area\", kind=\"line\")"
      ],
      "metadata": {
        "colab": {
          "base_uri": "https://localhost:8080/",
          "height": 386
        },
        "id": "esIGPZznJ81v",
        "outputId": "f953c8b6-3126-4cad-d7fb-ecd78d7f0a27"
      },
      "execution_count": null,
      "outputs": [
        {
          "output_type": "execute_result",
          "data": {
            "text/plain": [
              "<seaborn.axisgrid.FacetGrid at 0x7fb886bab750>"
            ]
          },
          "metadata": {},
          "execution_count": 15
        },
        {
          "output_type": "display_data",
          "data": {
            "text/plain": [
              "<Figure size 360x360 with 1 Axes>"
            ],
            "image/png": "[encoded data removed]"
          },
          "metadata": {
            "needs_background": "light"
          }
        }
      ]
    },
    {
      "cell_type": "code",
      "source": [
        "#7)Number of bedrooms\n",
        "sns.relplot(data=df, x=\"Number of bedrooms\", y=\"House price of unit area\", kind=\"line\")"
      ],
      "metadata": {
        "colab": {
          "base_uri": "https://localhost:8080/",
          "height": 386
        },
        "id": "sK3_vXkRKWW1",
        "outputId": "ba7c9bd7-a248-4791-e0c2-da1e07e550de"
      },
      "execution_count": null,
      "outputs": [
        {
          "output_type": "execute_result",
          "data": {
            "text/plain": [
              "<seaborn.axisgrid.FacetGrid at 0x7fb886ba9dd0>"
            ]
          },
          "metadata": {},
          "execution_count": 16
        },
        {
          "output_type": "display_data",
          "data": {
            "text/plain": [
              "<Figure size 360x360 with 1 Axes>"
            ],
            "image/png": "[encoded data removed]"
          },
          "metadata": {
            "needs_background": "light"
          }
        }
      ]
    },
    {
      "cell_type": "code",
      "source": [
        "#8)House size (sqft)\n",
        "sns.relplot(data=df, x=\"House size (sqft)\", y=\"House price of unit area\", kind=\"line\")"
      ],
      "metadata": {
        "colab": {
          "base_uri": "https://localhost:8080/",
          "height": 386
        },
        "id": "R_M5x046KdWE",
        "outputId": "69781aa7-cb86-4cb7-a7ad-9312eccd0302"
      },
      "execution_count": null,
      "outputs": [
        {
          "output_type": "execute_result",
          "data": {
            "text/plain": [
              "<seaborn.axisgrid.FacetGrid at 0x7fb886ab3050>"
            ]
          },
          "metadata": {},
          "execution_count": 17
        },
        {
          "output_type": "display_data",
          "data": {
            "text/plain": [
              "<Figure size 360x360 with 1 Axes>"
            ],
            "image/png": "[encoded data removed]"
          },
          "metadata": {
            "needs_background": "light"
          }
        }
      ]
    },
    {
      "cell_type": "markdown",
      "source": [
        "#5)Splitting Dataset into Dependent and independent feature"
      ],
      "metadata": {
        "id": "M9ocuA6VKoQz"
      }
    },
    {
      "cell_type": "code",
      "source": [
        "X=df.drop(columns=['House price of unit area'])\n",
        "y=pd.DataFrame(df['House price of unit area'])\n"
      ],
      "metadata": {
        "id": "IxKhFmJI4X6P"
      },
      "execution_count": null,
      "outputs": []
    },
    {
      "cell_type": "markdown",
      "source": [
        "#6)Splitting dependent and independent fetures into train and test dataset "
      ],
      "metadata": {
        "id": "zXEpAewnK2iT"
      }
    },
    {
      "cell_type": "code",
      "source": [
        "from sklearn.model_selection import train_test_split\n",
        "X_train,X_test,y_train,y_test=train_test_split(X,y,test_size=0.25,random_state=42)"
      ],
      "metadata": {
        "id": "TFw5VHKQ4hEV"
      },
      "execution_count": null,
      "outputs": []
    },
    {
      "cell_type": "markdown",
      "source": [
        "#7)Train, Test data preprocessing "
      ],
      "metadata": {
        "id": "9F_tQx3ELPsy"
      }
    },
    {
      "cell_type": "code",
      "source": [
        "from sklearn.preprocessing import StandardScaler\n",
        "sc = StandardScaler()\n",
        "X_train= sc.fit_transform(X_train)\n",
        "X_test = sc.transform(X_test)\n",
        "y_train=sc.fit_transform(y_train)\n",
        "y_test=sc.transform (y_test)"
      ],
      "metadata": {
        "id": "Rloo8RkV1eZH"
      },
      "execution_count": null,
      "outputs": []
    },
    {
      "cell_type": "markdown",
      "source": [
        "#8)Building Regression Models"
      ],
      "metadata": {
        "id": "chFcIcYVLh-S"
      }
    },
    {
      "cell_type": "code",
      "source": [
        "wb = Workbook()\n",
        "ws =  wb.active\n",
        "ws.title = \"Changed Sheet\"\n",
        "wb.save(filename = 'sample_book.xlsx')\n",
        "ws.append(['Model','RMSE for train data','RMSE for test data'])"
      ],
      "metadata": {
        "id": "YM-R10S2ODZ7"
      },
      "execution_count": null,
      "outputs": []
    },
    {
      "cell_type": "markdown",
      "source": [
        "\n",
        "\n",
        "#**Linear Regression** \n",
        "\n",
        "\n",
        "\n",
        "\n"
      ],
      "metadata": {
        "id": "xxblgu-QL-ym"
      }
    },
    {
      "cell_type": "code",
      "source": [
        "# loading the linear regression model \n",
        "lin_reg_model = LinearRegression() \n",
        "lin_reg_model.fit(X_train,y_train) "
      ],
      "metadata": {
        "colab": {
          "base_uri": "https://localhost:8080/"
        },
        "id": "ZboPwt6QBW7d",
        "outputId": "440b2599-e199-4c71-9295-0bc3f8b893c3"
      },
      "execution_count": null,
      "outputs": [
        {
          "output_type": "execute_result",
          "data": {
            "text/plain": [
              "LinearRegression()"
            ]
          },
          "metadata": {},
          "execution_count": 22
        }
      ]
    },
    {
      "cell_type": "code",
      "source": [
        "train1_predict = lin_reg_model.predict(X_train) \n",
        "test1_predict= lin_reg_model.predict(X_test) "
      ],
      "metadata": {
        "id": "1rCESxnRB41G"
      },
      "execution_count": null,
      "outputs": []
    },
    {
      "cell_type": "code",
      "source": [
        "\n",
        "train1_score = metrics.r2_score(y_train,train1_predict) \n",
        "test1_score=metrics.r2_score(y_test,test1_predict)\n",
        " \n",
        "#Training data\n",
        "# print(\"R squared Error - Train data: \", train1_score) \n",
        "x1=(np.sqrt(mean_squared_error(y_train, train1_predict)))\n",
        "print('RMSE train data: %.3f' % (np.sqrt(mean_squared_error(y_train, train1_predict))))\n",
        "# print('R^2 train data: %.3f' % (r2_score(y_train,train1_predict)))\n",
        " \n",
        "#Testing Data\n",
        "# print(\"R squared Error - Testing data: \",test1_score ) \n",
        "y1=(np.sqrt(mean_squared_error(y_test, test1_predict)))\n",
        "print('RMSE test data: %.3f' % (np.sqrt(mean_squared_error(y_test, test1_predict))))\n",
        "# print('R^2 test data: %.3f' % (r2_score(y_test,test1_predict)))\n",
        "ws.append(['Linear Regression',x1,y1])"
      ],
      "metadata": {
        "colab": {
          "base_uri": "https://localhost:8080/"
        },
        "id": "1jInqqkzB-6V",
        "outputId": "1bf45874-86e9-414b-f270-a9dd7dc57799"
      },
      "execution_count": null,
      "outputs": [
        {
          "output_type": "stream",
          "name": "stdout",
          "text": [
            "RMSE train data: 0.648\n",
            "RMSE test data: 0.605\n"
          ]
        }
      ]
    },
    {
      "cell_type": "markdown",
      "source": [
        "#**Ridge Regression**"
      ],
      "metadata": {
        "id": "HZH6_s3_OXig"
      }
    },
    {
      "cell_type": "code",
      "source": [
        "#Creating a pipeline with Ridge model \n",
        "pipeline = make_pipeline(Ridge(alpha=1.0))\n",
        "pipeline.fit(X_train, y_train)\n"
      ],
      "metadata": {
        "colab": {
          "base_uri": "https://localhost:8080/"
        },
        "id": "cmLIeRjBCChC",
        "outputId": "25d5a5cb-69df-4bd4-a4ca-578532854b9e"
      },
      "execution_count": null,
      "outputs": [
        {
          "output_type": "execute_result",
          "data": {
            "text/plain": [
              "Pipeline(steps=[('ridge', Ridge())])"
            ]
          },
          "metadata": {},
          "execution_count": 25
        }
      ]
    },
    {
      "cell_type": "code",
      "source": [
        "train2_predict = pipeline.predict(X_train) \n",
        "test2_predict= pipeline.predict(X_test) "
      ],
      "metadata": {
        "id": "62_lPAtCPAdK"
      },
      "execution_count": null,
      "outputs": []
    },
    {
      "cell_type": "code",
      "source": [
        "train2_score = metrics.r2_score(y_train,train2_predict) \n",
        "test2_score=metrics.r2_score(y_test,test2_predict)\n",
        " \n",
        "#Training data\n",
        "# print(\"R squared Error - Train data: \", train2_score) \n",
        "x2=(np.sqrt(mean_squared_error(y_train, train2_predict)) )\n",
        "print('RMSE train data: %.3f' % (np.sqrt(mean_squared_error(y_train, train2_predict)) ))\n",
        "# print('R^2 train data: %.3f' % (r2_score(y_train,train2_predict)))\n",
        " \n",
        "#Testing Data\n",
        "# print(\"R squared Error - Testing data: \",test2_score ) \n",
        "y2=(np.sqrt(mean_squared_error(y_test, test2_predict)))\n",
        "print('RMSE test data: %.3f' % (np.sqrt(mean_squared_error(y_test, test2_predict))))\n",
        "# print('R^2 test data: %.3f' % (r2_score(y_test,test2_predict)))\n",
        "\n",
        "ws.append(['Ridge Regression',x2,y2])"
      ],
      "metadata": {
        "colab": {
          "base_uri": "https://localhost:8080/"
        },
        "id": "Y2fZBDTuPDCl",
        "outputId": "a56d4899-eb70-44bb-d6db-f44d539b3676"
      },
      "execution_count": null,
      "outputs": [
        {
          "output_type": "stream",
          "name": "stdout",
          "text": [
            "RMSE train data: 0.648\n",
            "RMSE test data: 0.605\n"
          ]
        }
      ]
    },
    {
      "cell_type": "markdown",
      "source": [
        "#**Neural Network Regressor**"
      ],
      "metadata": {
        "id": "DYRz7txxTj5Y"
      }
    },
    {
      "cell_type": "code",
      "source": [
        "hidden_units1 = 160\n",
        "hidden_units2 = 480\n",
        "hidden_units3 = 256\n",
        "learning_rate = 0.01\n",
        "\n",
        "# Creating model using the Sequential in tensorflow\n",
        "\n",
        "def build_model_using_sequential():\n",
        "  model = Sequential([\n",
        "    Dense(hidden_units1, kernel_initializer='normal', activation='relu'),\n",
        "    Dropout(0.2),\n",
        "    Dense(hidden_units2, kernel_initializer='normal', activation='relu'),\n",
        "    Dropout(0.2),\n",
        "    Dense(hidden_units3, kernel_initializer='normal', activation='relu'),\n",
        "    Dense(1, kernel_initializer='normal', activation='linear')\n",
        "  ])\n",
        "  return model\n"
      ],
      "metadata": {
        "id": "H54NYazqC4xz"
      },
      "execution_count": null,
      "outputs": []
    },
    {
      "cell_type": "code",
      "source": [
        "# build the model\n",
        "model_NN = build_model_using_sequential()\n",
        "# loss function\n",
        "msle = MeanSquaredLogarithmicError()\n",
        "model_NN.compile(\n",
        "    loss=msle, \n",
        "    optimizer=Adam(learning_rate=learning_rate), \n",
        "    metrics=[msle]\n",
        ")\n",
        "\n",
        "# train the model\n",
        "history = model_NN.fit(\n",
        "    X_train, \n",
        "    y_train, \n",
        "    epochs=10, \n",
        "    batch_size=64,\n",
        "    validation_split=0.2\n",
        ")"
      ],
      "metadata": {
        "colab": {
          "base_uri": "https://localhost:8080/"
        },
        "id": "hErfrxw0EsyU",
        "outputId": "d11e1f93-2119-4fa7-bd8d-b1e7c9f3236c"
      },
      "execution_count": null,
      "outputs": [
        {
          "output_type": "stream",
          "name": "stdout",
          "text": [
            "Epoch 1/10\n",
            "4/4 [==============================] - 3s 146ms/step - loss: 0.1947 - mean_squared_logarithmic_error: 0.1912 - val_loss: 0.1562 - val_mean_squared_logarithmic_error: 0.1562\n",
            "Epoch 2/10\n",
            "4/4 [==============================] - 0s 33ms/step - loss: 0.0820 - mean_squared_logarithmic_error: 0.0814 - val_loss: 0.1026 - val_mean_squared_logarithmic_error: 0.1026\n",
            "Epoch 3/10\n",
            "4/4 [==============================] - 0s 29ms/step - loss: 0.0704 - mean_squared_logarithmic_error: 0.0696 - val_loss: 0.0955 - val_mean_squared_logarithmic_error: 0.0955\n",
            "Epoch 4/10\n",
            "4/4 [==============================] - 0s 32ms/step - loss: 0.0590 - mean_squared_logarithmic_error: 0.0582 - val_loss: 0.0957 - val_mean_squared_logarithmic_error: 0.0957\n",
            "Epoch 5/10\n",
            "4/4 [==============================] - 0s 45ms/step - loss: 0.0522 - mean_squared_logarithmic_error: 0.0522 - val_loss: 0.0908 - val_mean_squared_logarithmic_error: 0.0908\n",
            "Epoch 6/10\n",
            "4/4 [==============================] - 0s 23ms/step - loss: 0.0521 - mean_squared_logarithmic_error: 0.0522 - val_loss: 0.0908 - val_mean_squared_logarithmic_error: 0.0908\n",
            "Epoch 7/10\n",
            "4/4 [==============================] - 0s 26ms/step - loss: 0.0536 - mean_squared_logarithmic_error: 0.0536 - val_loss: 0.0957 - val_mean_squared_logarithmic_error: 0.0957\n",
            "Epoch 8/10\n",
            "4/4 [==============================] - 0s 21ms/step - loss: 0.0443 - mean_squared_logarithmic_error: 0.0444 - val_loss: 0.0909 - val_mean_squared_logarithmic_error: 0.0909\n",
            "Epoch 9/10\n",
            "4/4 [==============================] - 0s 52ms/step - loss: 0.0442 - mean_squared_logarithmic_error: 0.0442 - val_loss: 0.0936 - val_mean_squared_logarithmic_error: 0.0936\n",
            "Epoch 10/10\n",
            "4/4 [==============================] - 0s 25ms/step - loss: 0.0436 - mean_squared_logarithmic_error: 0.0436 - val_loss: 0.0933 - val_mean_squared_logarithmic_error: 0.0933\n"
          ]
        }
      ]
    },
    {
      "cell_type": "code",
      "source": [
        "def plot_history(history, key):\n",
        "  plt.plot(history.history[key])\n",
        "  plt.plot(history.history['val_'+key])\n",
        "  plt.xlabel(\"Epochs\")\n",
        "  plt.ylabel(key)\n",
        "  plt.legend([key, 'val_'+key])\n",
        "  plt.show()\n",
        "# Plot the history\n",
        "plot_history(history, 'mean_squared_logarithmic_error')"
      ],
      "metadata": {
        "colab": {
          "base_uri": "https://localhost:8080/",
          "height": 279
        },
        "id": "3NWxof6RESRt",
        "outputId": "dd4eee63-b8ff-48e4-9374-d24f7be33ad9"
      },
      "execution_count": null,
      "outputs": [
        {
          "output_type": "display_data",
          "data": {
            "text/plain": [
              "<Figure size 432x288 with 1 Axes>"
            ],
            "image/png": "[encoded data removed]"
          },
          "metadata": {
            "needs_background": "light"
          }
        }
      ]
    },
    {
      "cell_type": "code",
      "source": [
        "train3_predict = model_NN.predict(X_train) \n",
        "test3_predict=model_NN.predict(X_test) \n",
        "\n",
        "train3_score = metrics.r2_score(y_train,train3_predict) \n",
        "test3_score=metrics.r2_score(y_test,test3_predict)\n",
        " \n",
        "#Training data\n",
        "# print(\"R squared Error - Train data: \", train3_score) \n",
        "x3=(np.sqrt(mean_squared_error(y_train, train3_predict)))\n",
        "print('RMSE train data: %.3f' % (np.sqrt(mean_squared_error(y_train, train3_predict)) ))\n",
        "# print('R^2 train data: %.3f' % (r2_score(y_train,train3_predict)))\n",
        " \n",
        "#Testing Data\n",
        "# print(\"R squared Error - Testing data: \",test3_score ) \n",
        "y3=(np.sqrt(mean_squared_error(y_test, test3_predict)))\n",
        "print('RMSE test data: %.3f' % (np.sqrt(mean_squared_error(y_test, test3_predict))))\n",
        "# print('R^2 test data: %.3f' % (r2_score(y_test,test3_predict)))\n",
        "\n",
        "ws.append(['Neural Network Regression',x3,y3])"
      ],
      "metadata": {
        "colab": {
          "base_uri": "https://localhost:8080/"
        },
        "id": "4qgF89IgEzM8",
        "outputId": "4bfec6c5-5d48-404d-e602-9b03544e78eb"
      },
      "execution_count": null,
      "outputs": [
        {
          "output_type": "stream",
          "name": "stdout",
          "text": [
            "10/10 [==============================] - 0s 5ms/step\n",
            "4/4 [==============================] - 0s 11ms/step\n",
            "RMSE train data: 0.734\n",
            "RMSE test data: 0.730\n"
          ]
        }
      ]
    },
    {
      "cell_type": "markdown",
      "source": [
        "#**Lasso Regression**"
      ],
      "metadata": {
        "id": "_3vqk92KP285"
      }
    },
    {
      "cell_type": "code",
      "source": [
        "from sklearn.linear_model import Lasso\n",
        "lasso_reg = Lasso()\n",
        "lasso_reg.fit(X_train, y_train)"
      ],
      "metadata": {
        "colab": {
          "base_uri": "https://localhost:8080/"
        },
        "id": "yx57PjpiFHpA",
        "outputId": "aab2e3b9-22fc-44d9-a6f8-2ae32f5ead16"
      },
      "execution_count": null,
      "outputs": [
        {
          "output_type": "execute_result",
          "data": {
            "text/plain": [
              "Lasso()"
            ]
          },
          "metadata": {},
          "execution_count": 32
        }
      ]
    },
    {
      "cell_type": "code",
      "source": [
        "train4_predict = lasso_reg.predict(X_train) \n",
        "test4_predict= lasso_reg.predict(X_test) \n",
        "\n",
        "train4_score = metrics.r2_score(y_train,train4_predict) \n",
        "test4_score=metrics.r2_score(y_test,test4_predict)\n",
        " \n",
        "#Training data\n",
        "# print(\"R squared Error - Train data: \", train4_score) \n",
        "x4=(np.sqrt(mean_squared_error(y_train, train4_predict)) )\n",
        "print('RMSE train data: %.3f' % (np.sqrt(mean_squared_error(y_train, train4_predict)) ))\n",
        "# print('R^2 train data: %.3f' % (r2_score(y_train,train4_predict)))\n",
        " \n",
        "#Testing Data\n",
        "# print(\"R squared Error - Testing data: \",test4_score ) \n",
        "y4=(np.sqrt(mean_squared_error(y_test, test4_predict)))\n",
        "print('RMSE test data: %.3f' % (np.sqrt(mean_squared_error(y_test, test4_predict))))\n",
        "# print('R^2 test data: %.3f' % (r2_score(y_test,test4_predict)))\n",
        "\n",
        "ws.append(['Lasso Regression',x4,y4])"
      ],
      "metadata": {
        "colab": {
          "base_uri": "https://localhost:8080/"
        },
        "id": "6Mwq-Km0Fxit",
        "outputId": "accd057c-470a-468f-adc2-3669b886de9b"
      },
      "execution_count": null,
      "outputs": [
        {
          "output_type": "stream",
          "name": "stdout",
          "text": [
            "RMSE train data: 1.000\n",
            "RMSE test data: 0.938\n"
          ]
        }
      ]
    },
    {
      "cell_type": "markdown",
      "source": [
        "#**Decision Tree Regressor**"
      ],
      "metadata": {
        "id": "OztoLuZ6QgKc"
      }
    },
    {
      "cell_type": "code",
      "source": [
        "# create a regressor object\n",
        "regressor = DecisionTreeRegressor(random_state = 0) \n",
        "# fit the regressor with X and Y data\n",
        "regressor.fit(X_train, y_train)"
      ],
      "metadata": {
        "colab": {
          "base_uri": "https://localhost:8080/"
        },
        "id": "XiMMVaWFF1ib",
        "outputId": "c8863545-9a3c-4184-a74e-18f7fc13e15f"
      },
      "execution_count": null,
      "outputs": [
        {
          "output_type": "execute_result",
          "data": {
            "text/plain": [
              "DecisionTreeRegressor(random_state=0)"
            ]
          },
          "metadata": {},
          "execution_count": 34
        }
      ]
    },
    {
      "cell_type": "code",
      "source": [
        "train5_predict = regressor.predict(X_train) \n",
        "test5_predict= regressor.predict(X_test) \n",
        "\n",
        "train5_score = metrics.r2_score(y_train,train5_predict) \n",
        "test5_score=metrics.r2_score(y_test,test5_predict)\n",
        " \n",
        "#Training data\n",
        "# print(\"R squared Error - Train data: \", train5_score) \n",
        "x5=(np.sqrt(mean_squared_error(y_train, train5_predict)) )\n",
        "print('RMSE train data: %.3f' % (np.sqrt(mean_squared_error(y_train, train5_predict)) ))\n",
        "# print('R^2 train data: %.3f' % (r2_score(y_train,train5_predict)))\n",
        " \n",
        "#Testing Data\n",
        "# print(\"R squared Error - Testing data: \",test5_score ) \n",
        "y5=(np.sqrt(mean_squared_error(y_test, test5_predict)))\n",
        "print('RMSE test data: %.3f' % (np.sqrt(mean_squared_error(y_test, test5_predict))))\n",
        "# print('R^2 test data: %.3f' % (r2_score(y_test,test5_predict)))\n",
        "\n",
        "ws.append(['Decision Tree Regressor',x5,y5])"
      ],
      "metadata": {
        "id": "Gi8pG1D1GHyO",
        "colab": {
          "base_uri": "https://localhost:8080/"
        },
        "outputId": "d545acf7-00c9-43ad-8949-40e5427a917e"
      },
      "execution_count": null,
      "outputs": [
        {
          "output_type": "stream",
          "name": "stdout",
          "text": [
            "RMSE train data: 0.000\n",
            "RMSE test data: 0.685\n"
          ]
        }
      ]
    },
    {
      "cell_type": "markdown",
      "source": [
        "#**Random Forest Regressor**"
      ],
      "metadata": {
        "id": "pSIkaHupRAe0"
      }
    },
    {
      "cell_type": "code",
      "source": [
        "# create regressor object\n",
        "regressor = RandomForestRegressor(n_estimators = 100, random_state = 0)\n",
        "\n",
        "regressor.fit(X_train, y_train) "
      ],
      "metadata": {
        "colab": {
          "base_uri": "https://localhost:8080/"
        },
        "id": "uoXFLfXCGLfX",
        "outputId": "f5edbb92-2957-4eda-b0cd-dc2ad8981eef"
      },
      "execution_count": null,
      "outputs": [
        {
          "output_type": "stream",
          "name": "stderr",
          "text": [
            "/usr/local/lib/python3.7/dist-packages/ipykernel_launcher.py:4: DataConversionWarning: A column-vector y was passed when a 1d array was expected. Please change the shape of y to (n_samples,), for example using ravel().\n",
            "  after removing the cwd from sys.path.\n"
          ]
        },
        {
          "output_type": "execute_result",
          "data": {
            "text/plain": [
              "RandomForestRegressor(random_state=0)"
            ]
          },
          "metadata": {},
          "execution_count": 36
        }
      ]
    },
    {
      "cell_type": "code",
      "source": [
        "train6_predict = regressor.predict(X_train) \n",
        "test6_predict= regressor.predict(X_test) \n",
        "\n",
        "train6_score = metrics.r2_score(y_train,train6_predict) \n",
        "test6_score=metrics.r2_score(y_test,test6_predict)\n",
        " \n",
        "#Training data\n",
        "# print(\"R squared Error - Train data: \", train6_score) \n",
        "x6=(np.sqrt(mean_squared_error(y_train, train6_predict)) )\n",
        "print('RMSE train data: %.3f' % (np.sqrt(mean_squared_error(y_train, train6_predict)) ))\n",
        "# print('R^2 train data: %.3f' % (r2_score(y_train,train6_predict)))\n",
        " \n",
        "#Testing Data\n",
        "# print(\"R squared Error - Testing data: \",test6_score ) \n",
        "y6=(np.sqrt(mean_squared_error(y_test, test6_predict)))\n",
        "print('RMSE test data: %.3f' % (np.sqrt(mean_squared_error(y_test, test6_predict))))\n",
        "# print('R^2 test data: %.3f' % (r2_score(y_test,test6_predict)))\n",
        "\n",
        "ws.append(['Random Forest Regressor',x6,y6])"
      ],
      "metadata": {
        "colab": {
          "base_uri": "https://localhost:8080/"
        },
        "id": "faeV_8zwROeJ",
        "outputId": "dbdb0dd3-bce2-4547-94f7-46fbecb5bd0f"
      },
      "execution_count": null,
      "outputs": [
        {
          "output_type": "stream",
          "name": "stdout",
          "text": [
            "RMSE train data: 0.211\n",
            "RMSE test data: 0.480\n"
          ]
        }
      ]
    },
    {
      "cell_type": "markdown",
      "source": [
        "#**KNeighbors Regressor**"
      ],
      "metadata": {
        "id": "4IKx5zDIRN5B"
      }
    },
    {
      "cell_type": "code",
      "source": [
        "\n",
        "RegModel = KNeighborsRegressor(n_neighbors=2)\n",
        "KNN=RegModel.fit(X_train,y_train)"
      ],
      "metadata": {
        "id": "HUnWMk6iGVZV"
      },
      "execution_count": null,
      "outputs": []
    },
    {
      "cell_type": "code",
      "source": [
        "train7_predict = RegModel.predict(X_train) \n",
        "test7_predict= RegModel.predict(X_test) \n",
        "\n",
        "train7_score = metrics.r2_score(y_train,train7_predict) \n",
        "test7_score=metrics.r2_score(y_test,test7_predict)\n",
        " \n",
        "#Training data\n",
        "# print(\"R squared Error - Train data: \", train7_score) \n",
        "x7= (np.sqrt(mean_squared_error(y_train, train7_predict)) )\n",
        "print('RMSE train data: %.3f' % (np.sqrt(mean_squared_error(y_train, train7_predict)) ))\n",
        "# print('R^2 train data: %.3f' % (r2_score(y_train,train7_predict)))\n",
        " \n",
        "#Testing Data\n",
        "# print(\"R squared Error - Testing data: \",test7_score ) \n",
        "y7=(np.sqrt(mean_squared_error(y_test, test7_predict)))\n",
        "print('RMSE test data: %.3f' % (np.sqrt(mean_squared_error(y_test, test7_predict))))\n",
        "# print('R^2 test data: %.3f' % (r2_score(y_test,test7_predict)))\n",
        "\n",
        "ws.append(['KNeighbors Regressor',x7,y7])"
      ],
      "metadata": {
        "colab": {
          "base_uri": "https://localhost:8080/"
        },
        "id": "ECLHR5qkR4j-",
        "outputId": "27811eea-b23f-4588-9227-86f15ad6c26d"
      },
      "execution_count": null,
      "outputs": [
        {
          "output_type": "stream",
          "name": "stdout",
          "text": [
            "RMSE train data: 0.460\n",
            "RMSE test data: 0.606\n"
          ]
        }
      ]
    },
    {
      "cell_type": "markdown",
      "source": [
        "#**Support Vector Regressor**"
      ],
      "metadata": {
        "id": "HAzmuOI-SDb8"
      }
    },
    {
      "cell_type": "code",
      "source": [
        "from sklearn.svm import SVR\n",
        "regressor = SVR(kernel = 'rbf')\n",
        "regressor.fit(X_train, y_train)"
      ],
      "metadata": {
        "colab": {
          "base_uri": "https://localhost:8080/"
        },
        "id": "9AjzOrC5G2_-",
        "outputId": "1ed447bd-3050-4043-fbe8-b5b01f0442ca"
      },
      "execution_count": null,
      "outputs": [
        {
          "output_type": "stream",
          "name": "stderr",
          "text": [
            "/usr/local/lib/python3.7/dist-packages/sklearn/utils/validation.py:993: DataConversionWarning: A column-vector y was passed when a 1d array was expected. Please change the shape of y to (n_samples, ), for example using ravel().\n",
            "  y = column_or_1d(y, warn=True)\n"
          ]
        },
        {
          "output_type": "execute_result",
          "data": {
            "text/plain": [
              "SVR()"
            ]
          },
          "metadata": {},
          "execution_count": 41
        }
      ]
    },
    {
      "cell_type": "code",
      "source": [
        "train8_predict = regressor.predict(X_train) \n",
        "test8_predict= regressor.predict(X_test) \n",
        "\n",
        "train8_score = metrics.r2_score(y_train,train8_predict) \n",
        "test8_score=metrics.r2_score(y_test,test8_predict)\n",
        " \n",
        "#Training data\n",
        "# print(\"R squared Error - Train data: \", train8_score) \n",
        "x8=(np.sqrt(mean_squared_error(y_train, train8_predict)))\n",
        "print('RMSE train data: %.3f' % (np.sqrt(mean_squared_error(y_train, train8_predict))))\n",
        "# print('R^2 train data: %.3f' % (r2_score(y_train,train8_predict)))\n",
        " \n",
        "#Testing Data\n",
        "# print(\"R squared Error - Testing data: \",test8_score ) \n",
        "y8=(np.sqrt(mean_squared_error(y_test, test8_predict)))\n",
        "print('RMSE test data: %.3f' % (np.sqrt(mean_squared_error(y_test, test8_predict))))\n",
        "# print('R^2 test data: %.3f' % (r2_score(y_test,test8_predict)))\n",
        "\n",
        "ws.append(['Support Vector Regressor',x8,y8])"
      ],
      "metadata": {
        "colab": {
          "base_uri": "https://localhost:8080/"
        },
        "id": "9JaydGqiSKdY",
        "outputId": "f7f05391-bd4e-48f7-e3b5-3751573d6af0"
      },
      "execution_count": null,
      "outputs": [
        {
          "output_type": "stream",
          "name": "stdout",
          "text": [
            "RMSE train data: 0.520\n",
            "RMSE test data: 0.515\n"
          ]
        }
      ]
    },
    {
      "cell_type": "markdown",
      "source": [
        "#**Gaussian Process Regressor**"
      ],
      "metadata": {
        "id": "dNCux_y4Sg08"
      }
    },
    {
      "cell_type": "code",
      "source": [
        "kernel = 1 * RBF(length_scale=1.0, length_scale_bounds=(1e-2, 1e2))\n",
        "gaussian_process = GaussianProcessRegressor(kernel=kernel, n_restarts_optimizer=9)\n",
        "gaussian_process.fit(X_train, y_train)"
      ],
      "metadata": {
        "colab": {
          "base_uri": "https://localhost:8080/"
        },
        "id": "oNRepPZkHUaB",
        "outputId": "7f7e328d-5fbb-4c9f-8766-41d296763ddc"
      },
      "execution_count": null,
      "outputs": [
        {
          "output_type": "execute_result",
          "data": {
            "text/plain": [
              "GaussianProcessRegressor(kernel=1**2 * RBF(length_scale=1),\n",
              "                         n_restarts_optimizer=9)"
            ]
          },
          "metadata": {},
          "execution_count": 43
        }
      ]
    },
    {
      "cell_type": "code",
      "source": [
        "train9_predict = gaussian_process.predict(X_train) \n",
        "test9_predict= gaussian_process.predict(X_test) \n",
        "\n",
        "train9_score = metrics.r2_score(y_train,train9_predict) \n",
        "test9_score=metrics.r2_score(y_test,test9_predict)\n",
        " \n",
        "#Training data\n",
        "# print(\"R squared Error - Train data: \", train9_score) \n",
        "x9=(np.sqrt(mean_squared_error(y_train, train9_predict)))\n",
        "print('RMSE train data: %.3f' % (np.sqrt(mean_squared_error(y_train, train9_predict))))\n",
        "# print('R^2 train data: %.3f' % (r2_score(y_train,train9_predict)))\n",
        " \n",
        "#Testing Data\n",
        "# print(\"R squared Error - Testing data: \",test9_score ) \n",
        "y9=(np.sqrt(mean_squared_error(y_test, test9_predict)))\n",
        "print('RMSE test data: %.3f' % (np.sqrt(mean_squared_error(y_test, test9_predict))))\n",
        "# print('R^2 test data: %.3f' % (r2_score(y_test,test9_predict)))\n",
        "\n",
        "ws.append(['Gaussian process Regressor',x9,y9])"
      ],
      "metadata": {
        "colab": {
          "base_uri": "https://localhost:8080/"
        },
        "id": "400jOZMLHXMg",
        "outputId": "c2d2d520-a55d-4bea-d38a-35d16aba72ce"
      },
      "execution_count": null,
      "outputs": [
        {
          "output_type": "stream",
          "name": "stdout",
          "text": [
            "RMSE train data: 0.000\n",
            "RMSE test data: 0.657\n"
          ]
        }
      ]
    },
    {
      "cell_type": "code",
      "source": [
        "wb.save('sample_book.xlsx')"
      ],
      "metadata": {
        "id": "Nar38ZxBL0GF"
      },
      "execution_count": null,
      "outputs": []
    },
    {
      "cell_type": "code",
      "source": [
        "df=pd.read_excel('sample_book.xlsx')\n",
        "df"
      ],
      "metadata": {
        "colab": {
          "base_uri": "https://localhost:8080/",
          "height": 331
        },
        "id": "atSjgq26MZ67",
        "outputId": "f25be2c4-390c-498b-f254-cdf6c45b6448"
      },
      "execution_count": null,
      "outputs": [
        {
          "output_type": "execute_result",
          "data": {
            "text/plain": [
              "                        Model  RMSE for train data  RMSE for test data\n",
              "0           Linear Regression         6.482236e-01            0.605185\n",
              "1            Ridge Regression         6.482299e-01            0.604602\n",
              "2   Neural Network Regression         7.341946e-01            0.729807\n",
              "3            Lasso Regression         1.000000e+00            0.937725\n",
              "4     Decision Tree Regressor         0.000000e+00            0.684749\n",
              "5     Random Forest Regressor         2.106156e-01            0.480301\n",
              "6        KNeighbors Regressor         4.599875e-01            0.606156\n",
              "7    Support Vector Regressor         5.197286e-01            0.514983\n",
              "8  Gaussian process Regressor         1.663841e-10            0.656601"
            ],
            "text/html": [
              "\n",
              "  <div id=\"df-9297dfad-1d32-459f-940c-10b2bb812120\">\n",
              "    <div class=\"colab-df-container\">\n",
              "      <div>\n",
              "<style scoped>\n",
              "    .dataframe tbody tr th:only-of-type {\n",
              "        vertical-align: middle;\n",
              "    }\n",
              "\n",
              "    .dataframe tbody tr th {\n",
              "        vertical-align: top;\n",
              "    }\n",
              "\n",
              "    .dataframe thead th {\n",
              "        text-align: right;\n",
              "    }\n",
              "</style>\n",
              "<table border=\"1\" class=\"dataframe\">\n",
              "  <thead>\n",
              "    <tr style=\"text-align: right;\">\n",
              "      <th></th>\n",
              "      <th>Model</th>\n",
              "      <th>RMSE for train data</th>\n",
              "      <th>RMSE for test data</th>\n",
              "    </tr>\n",
              "  </thead>\n",
              "  <tbody>\n",
              "    <tr>\n",
              "      <th>0</th>\n",
              "      <td>Linear Regression</td>\n",
              "      <td>6.482236e-01</td>\n",
              "      <td>0.605185</td>\n",
              "    </tr>\n",
              "    <tr>\n",
              "      <th>1</th>\n",
              "      <td>Ridge Regression</td>\n",
              "      <td>6.482299e-01</td>\n",
              "      <td>0.604602</td>\n",
              "    </tr>\n",
              "    <tr>\n",
              "      <th>2</th>\n",
              "      <td>Neural Network Regression</td>\n",
              "      <td>7.341946e-01</td>\n",
              "      <td>0.729807</td>\n",
              "    </tr>\n",
              "    <tr>\n",
              "      <th>3</th>\n",
              "      <td>Lasso Regression</td>\n",
              "      <td>1.000000e+00</td>\n",
              "      <td>0.937725</td>\n",
              "    </tr>\n",
              "    <tr>\n",
              "      <th>4</th>\n",
              "      <td>Decision Tree Regressor</td>\n",
              "      <td>0.000000e+00</td>\n",
              "      <td>0.684749</td>\n",
              "    </tr>\n",
              "    <tr>\n",
              "      <th>5</th>\n",
              "      <td>Random Forest Regressor</td>\n",
              "      <td>2.106156e-01</td>\n",
              "      <td>0.480301</td>\n",
              "    </tr>\n",
              "    <tr>\n",
              "      <th>6</th>\n",
              "      <td>KNeighbors Regressor</td>\n",
              "      <td>4.599875e-01</td>\n",
              "      <td>0.606156</td>\n",
              "    </tr>\n",
              "    <tr>\n",
              "      <th>7</th>\n",
              "      <td>Support Vector Regressor</td>\n",
              "      <td>5.197286e-01</td>\n",
              "      <td>0.514983</td>\n",
              "    </tr>\n",
              "    <tr>\n",
              "      <th>8</th>\n",
              "      <td>Gaussian process Regressor</td>\n",
              "      <td>1.663841e-10</td>\n",
              "      <td>0.656601</td>\n",
              "    </tr>\n",
              "  </tbody>\n",
              "</table>\n",
              "</div>\n",
              "      <button class=\"colab-df-convert\" onclick=\"convertToInteractive('df-9297dfad-1d32-459f-940c-10b2bb812120')\"\n",
              "              title=\"Convert this dataframe to an interactive table.\"\n",
              "              style=\"display:none;\">\n",
              "        \n",
              "  <svg xmlns=\"http://www.w3.org/2000/svg\" height=\"24px\"viewBox=\"0 0 24 24\"\n",
              "       width=\"24px\">\n",
              "    <path d=\"M0 0h24v24H0V0z\" fill=\"none\"/>\n",
              "    <path d=\"M18.56 5.44l.94 2.06.94-2.06 2.06-.94-2.06-.94-.94-2.06-.94 2.06-2.06.94zm-11 1L8.5 8.5l.94-2.06 2.06-.94-2.06-.94L8.5 2.5l-.94 2.06-2.06.94zm10 10l.94 2.06.94-2.06 2.06-.94-2.06-.94-.94-2.06-.94 2.06-2.06.94z\"/><path d=\"M17.41 7.96l-1.37-1.37c-.4-.4-.92-.59-1.43-.59-.52 0-1.04.2-1.43.59L10.3 9.45l-7.72 7.72c-.78.78-.78 2.05 0 2.83L4 21.41c.39.39.9.59 1.41.59.51 0 1.02-.2 1.41-.59l7.78-7.78 2.81-2.81c.8-.78.8-2.07 0-2.86zM5.41 20L4 18.59l7.72-7.72 1.47 1.35L5.41 20z\"/>\n",
              "  </svg>\n",
              "      </button>\n",
              "      \n",
              "  <style>\n",
              "    .colab-df-container {\n",
              "      display:flex;\n",
              "      flex-wrap:wrap;\n",
              "      gap: 12px;\n",
              "    }\n",
              "\n",
              "    .colab-df-convert {\n",
              "      background-color: #E8F0FE;\n",
              "      border: none;\n",
              "      border-radius: 50%;\n",
              "      cursor: pointer;\n",
              "      display: none;\n",
              "      fill: #1967D2;\n",
              "      height: 32px;\n",
              "      padding: 0 0 0 0;\n",
              "      width: 32px;\n",
              "    }\n",
              "\n",
              "    .colab-df-convert:hover {\n",
              "      background-color: #E2EBFA;\n",
              "      box-shadow: 0px 1px 2px rgba(60, 64, 67, 0.3), 0px 1px 3px 1px rgba(60, 64, 67, 0.15);\n",
              "      fill: #174EA6;\n",
              "    }\n",
              "\n",
              "    [theme=dark] .colab-df-convert {\n",
              "      background-color: #3B4455;\n",
              "      fill: #D2E3FC;\n",
              "    }\n",
              "\n",
              "    [theme=dark] .colab-df-convert:hover {\n",
              "      background-color: #434B5C;\n",
              "      box-shadow: 0px 1px 3px 1px rgba(0, 0, 0, 0.15);\n",
              "      filter: drop-shadow(0px 1px 2px rgba(0, 0, 0, 0.3));\n",
              "      fill: #FFFFFF;\n",
              "    }\n",
              "  </style>\n",
              "\n",
              "      <script>\n",
              "        const buttonEl =\n",
              "          document.querySelector('#df-9297dfad-1d32-459f-940c-10b2bb812120 button.colab-df-convert');\n",
              "        buttonEl.style.display =\n",
              "          google.colab.kernel.accessAllowed ? 'block' : 'none';\n",
              "\n",
              "        async function convertToInteractive(key) {\n",
              "          const element = document.querySelector('#df-9297dfad-1d32-459f-940c-10b2bb812120');\n",
              "          const dataTable =\n",
              "            await google.colab.kernel.invokeFunction('convertToInteractive',\n",
              "                                                     [key], {});\n",
              "          if (!dataTable) return;\n",
              "\n",
              "          const docLinkHtml = 'Like what you see? Visit the ' +\n",
              "            '<a target=\"_blank\" href=https://colab.research.google.com/notebooks/data_table.ipynb>data table notebook</a>'\n",
              "            + ' to learn more about interactive tables.';\n",
              "          element.innerHTML = '';\n",
              "          dataTable['output_type'] = 'display_data';\n",
              "          await google.colab.output.renderOutput(dataTable, element);\n",
              "          const docLink = document.createElement('div');\n",
              "          docLink.innerHTML = docLinkHtml;\n",
              "          element.appendChild(docLink);\n",
              "        }\n",
              "      </script>\n",
              "    </div>\n",
              "  </div>\n",
              "  "
            ]
          },
          "metadata": {},
          "execution_count": 46
        }
      ]
    },
    {
      "cell_type": "markdown",
      "source": [
        "# As from above dataset we can draw inference that **Random Forest Regressor** is the best model for this problem as it has less training and testing Root mean sqaured error compared to other models "
      ],
      "metadata": {
        "id": "QLIsG4fUQCJB"
      }
    }
  ]
}