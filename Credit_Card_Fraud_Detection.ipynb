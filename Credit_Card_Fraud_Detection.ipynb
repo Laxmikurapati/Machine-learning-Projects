{
  "cells": [
    {
      "cell_type": "markdown",
      "metadata": {
        "id": "view-in-github",
        "colab_type": "text"
      },
      "source": [
        "<a href=\"https://colab.research.google.com/github/Laxmikurapati/Machine-learning-Projects/blob/main/Credit_Card_Fraud_Detection.ipynb\" target=\"_parent\"><img src=\"https://colab.research.google.com/assets/colab-badge.svg\" alt=\"Open In Colab\"/></a>"
      ]
    },
    {
      "metadata": {
        "id": "ag78ROHKZBM3"
      },
      "cell_type": "markdown",
      "source": [
        "**IMPORTING LIBRARIES:**"
      ]
    },
    {
      "cell_type": "code",
      "source": [
        "from google.colab import drive\n",
        "drive.mount('/content/drive')"
      ],
      "metadata": {
        "id": "vzq1eaPY1Fcx"
      },
      "execution_count": null,
      "outputs": []
    },
    {
      "metadata": {
        "trusted": true,
        "id": "OaUh3UOJZBM4"
      },
      "cell_type": "code",
      "source": [
        "import numpy as np\n",
        "import pandas as pd\n",
        "import matplotlib.pyplot as plt\n",
        "import seaborn as sns\n",
        "from pylab import rcParams\n",
        "import warnings\n",
        "from sklearn.tree import DecisionTreeRegressor\n",
        "warnings.filterwarnings('ignore')"
      ],
      "execution_count": null,
      "outputs": []
    },
    {
      "metadata": {
        "id": "xhpBCd1dZBM7"
      },
      "cell_type": "markdown",
      "source": [
        "**READING DATASET :**"
      ]
    },
    {
      "metadata": {
        "trusted": true,
        "id": "yJlQcqeDZBM8"
      },
      "cell_type": "code",
      "source": [
        "data=pd.read_csv('/kaggle/input/creditcardfraud/creditcard.csv')"
      ],
      "execution_count": null,
      "outputs": []
    },
    {
      "metadata": {
        "trusted": true,
        "id": "1OQf4SAGZBM9",
        "outputId": "59b6b589-a737-41da-a2e1-a8d0faf6aff2"
      },
      "cell_type": "code",
      "source": [
        "data.head()"
      ],
      "execution_count": null,
      "outputs": [
        {
          "output_type": "execute_result",
          "execution_count": 3,
          "data": {
            "text/plain": "   Time        V1        V2        V3        V4        V5        V6        V7  \\\n0   0.0 -1.359807 -0.072781  2.536347  1.378155 -0.338321  0.462388  0.239599   \n1   0.0  1.191857  0.266151  0.166480  0.448154  0.060018 -0.082361 -0.078803   \n2   1.0 -1.358354 -1.340163  1.773209  0.379780 -0.503198  1.800499  0.791461   \n3   1.0 -0.966272 -0.185226  1.792993 -0.863291 -0.010309  1.247203  0.237609   \n4   2.0 -1.158233  0.877737  1.548718  0.403034 -0.407193  0.095921  0.592941   \n\n         V8        V9  ...       V21       V22       V23       V24       V25  \\\n0  0.098698  0.363787  ... -0.018307  0.277838 -0.110474  0.066928  0.128539   \n1  0.085102 -0.255425  ... -0.225775 -0.638672  0.101288 -0.339846  0.167170   \n2  0.247676 -1.514654  ...  0.247998  0.771679  0.909412 -0.689281 -0.327642   \n3  0.377436 -1.387024  ... -0.108300  0.005274 -0.190321 -1.175575  0.647376   \n4 -0.270533  0.817739  ... -0.009431  0.798278 -0.137458  0.141267 -0.206010   \n\n        V26       V27       V28  Amount  Class  \n0 -0.189115  0.133558 -0.021053  149.62      0  \n1  0.125895 -0.008983  0.014724    2.69      0  \n2 -0.139097 -0.055353 -0.059752  378.66      0  \n3 -0.221929  0.062723  0.061458  123.50      0  \n4  0.502292  0.219422  0.215153   69.99      0  \n\n[5 rows x 31 columns]",
            "text/html": "<div>\n<style scoped>\n    .dataframe tbody tr th:only-of-type {\n        vertical-align: middle;\n    }\n\n    .dataframe tbody tr th {\n        vertical-align: top;\n    }\n\n    .dataframe thead th {\n        text-align: right;\n    }\n</style>\n<table border=\"1\" class=\"dataframe\">\n  <thead>\n    <tr style=\"text-align: right;\">\n      <th></th>\n      <th>Time</th>\n      <th>V1</th>\n      <th>V2</th>\n      <th>V3</th>\n      <th>V4</th>\n      <th>V5</th>\n      <th>V6</th>\n      <th>V7</th>\n      <th>V8</th>\n      <th>V9</th>\n      <th>...</th>\n      <th>V21</th>\n      <th>V22</th>\n      <th>V23</th>\n      <th>V24</th>\n      <th>V25</th>\n      <th>V26</th>\n      <th>V27</th>\n      <th>V28</th>\n      <th>Amount</th>\n      <th>Class</th>\n    </tr>\n  </thead>\n  <tbody>\n    <tr>\n      <th>0</th>\n      <td>0.0</td>\n      <td>-1.359807</td>\n      <td>-0.072781</td>\n      <td>2.536347</td>\n      <td>1.378155</td>\n      <td>-0.338321</td>\n      <td>0.462388</td>\n      <td>0.239599</td>\n      <td>0.098698</td>\n      <td>0.363787</td>\n      <td>...</td>\n      <td>-0.018307</td>\n      <td>0.277838</td>\n      <td>-0.110474</td>\n      <td>0.066928</td>\n      <td>0.128539</td>\n      <td>-0.189115</td>\n      <td>0.133558</td>\n      <td>-0.021053</td>\n      <td>149.62</td>\n      <td>0</td>\n    </tr>\n    <tr>\n      <th>1</th>\n      <td>0.0</td>\n      <td>1.191857</td>\n      <td>0.266151</td>\n      <td>0.166480</td>\n      <td>0.448154</td>\n      <td>0.060018</td>\n      <td>-0.082361</td>\n      <td>-0.078803</td>\n      <td>0.085102</td>\n      <td>-0.255425</td>\n      <td>...</td>\n      <td>-0.225775</td>\n      <td>-0.638672</td>\n      <td>0.101288</td>\n      <td>-0.339846</td>\n      <td>0.167170</td>\n      <td>0.125895</td>\n      <td>-0.008983</td>\n      <td>0.014724</td>\n      <td>2.69</td>\n      <td>0</td>\n    </tr>\n    <tr>\n      <th>2</th>\n      <td>1.0</td>\n      <td>-1.358354</td>\n      <td>-1.340163</td>\n      <td>1.773209</td>\n      <td>0.379780</td>\n      <td>-0.503198</td>\n      <td>1.800499</td>\n      <td>0.791461</td>\n      <td>0.247676</td>\n      <td>-1.514654</td>\n      <td>...</td>\n      <td>0.247998</td>\n      <td>0.771679</td>\n      <td>0.909412</td>\n      <td>-0.689281</td>\n      <td>-0.327642</td>\n      <td>-0.139097</td>\n      <td>-0.055353</td>\n      <td>-0.059752</td>\n      <td>378.66</td>\n      <td>0</td>\n    </tr>\n    <tr>\n      <th>3</th>\n      <td>1.0</td>\n      <td>-0.966272</td>\n      <td>-0.185226</td>\n      <td>1.792993</td>\n      <td>-0.863291</td>\n      <td>-0.010309</td>\n      <td>1.247203</td>\n      <td>0.237609</td>\n      <td>0.377436</td>\n      <td>-1.387024</td>\n      <td>...</td>\n      <td>-0.108300</td>\n      <td>0.005274</td>\n      <td>-0.190321</td>\n      <td>-1.175575</td>\n      <td>0.647376</td>\n      <td>-0.221929</td>\n      <td>0.062723</td>\n      <td>0.061458</td>\n      <td>123.50</td>\n      <td>0</td>\n    </tr>\n    <tr>\n      <th>4</th>\n      <td>2.0</td>\n      <td>-1.158233</td>\n      <td>0.877737</td>\n      <td>1.548718</td>\n      <td>0.403034</td>\n      <td>-0.407193</td>\n      <td>0.095921</td>\n      <td>0.592941</td>\n      <td>-0.270533</td>\n      <td>0.817739</td>\n      <td>...</td>\n      <td>-0.009431</td>\n      <td>0.798278</td>\n      <td>-0.137458</td>\n      <td>0.141267</td>\n      <td>-0.206010</td>\n      <td>0.502292</td>\n      <td>0.219422</td>\n      <td>0.215153</td>\n      <td>69.99</td>\n      <td>0</td>\n    </tr>\n  </tbody>\n</table>\n<p>5 rows × 31 columns</p>\n</div>"
          },
          "metadata": {}
        }
      ]
    },
    {
      "metadata": {
        "id": "DJDLdABgZBM_"
      },
      "cell_type": "markdown",
      "source": [
        "**NULL VALUES:**"
      ]
    },
    {
      "metadata": {
        "id": "1VoP90PBZBNB"
      },
      "cell_type": "markdown",
      "source": [
        "**INFORMATION**"
      ]
    },
    {
      "metadata": {
        "trusted": true,
        "id": "igwgr2JjZBNC",
        "outputId": "cd8d7703-2e4b-45e9-869e-9a120e32285d"
      },
      "cell_type": "code",
      "source": [
        "data.info()"
      ],
      "execution_count": null,
      "outputs": [
        {
          "output_type": "stream",
          "text": "<class 'pandas.core.frame.DataFrame'>\nRangeIndex: 284807 entries, 0 to 284806\nData columns (total 31 columns):\nTime      284807 non-null float64\nV1        284807 non-null float64\nV2        284807 non-null float64\nV3        284807 non-null float64\nV4        284807 non-null float64\nV5        284807 non-null float64\nV6        284807 non-null float64\nV7        284807 non-null float64\nV8        284807 non-null float64\nV9        284807 non-null float64\nV10       284807 non-null float64\nV11       284807 non-null float64\nV12       284807 non-null float64\nV13       284807 non-null float64\nV14       284807 non-null float64\nV15       284807 non-null float64\nV16       284807 non-null float64\nV17       284807 non-null float64\nV18       284807 non-null float64\nV19       284807 non-null float64\nV20       284807 non-null float64\nV21       284807 non-null float64\nV22       284807 non-null float64\nV23       284807 non-null float64\nV24       284807 non-null float64\nV25       284807 non-null float64\nV26       284807 non-null float64\nV27       284807 non-null float64\nV28       284807 non-null float64\nAmount    284807 non-null float64\nClass     284807 non-null int64\ndtypes: float64(30), int64(1)\nmemory usage: 67.4 MB\n",
          "name": "stdout"
        }
      ]
    },
    {
      "metadata": {
        "id": "i7Qfr1n8ZBND"
      },
      "cell_type": "markdown",
      "source": [
        "**DESCRIPTIVE STATISTICS**"
      ]
    },
    {
      "metadata": {
        "trusted": true,
        "id": "CjKWM0HNZBNE",
        "outputId": "73aa30af-1566-4349-bdf9-766583ffc5b7"
      },
      "cell_type": "code",
      "source": [
        "data.describe().T.head()"
      ],
      "execution_count": null,
      "outputs": [
        {
          "output_type": "execute_result",
          "execution_count": 6,
          "data": {
            "text/plain": "         count          mean           std        min           25%  \\\nTime  284807.0  9.481386e+04  47488.145955   0.000000  54201.500000   \nV1    284807.0  3.919560e-15      1.958696 -56.407510     -0.920373   \nV2    284807.0  5.688174e-16      1.651309 -72.715728     -0.598550   \nV3    284807.0 -8.769071e-15      1.516255 -48.325589     -0.890365   \nV4    284807.0  2.782312e-15      1.415869  -5.683171     -0.848640   \n\n               50%            75%            max  \nTime  84692.000000  139320.500000  172792.000000  \nV1        0.018109       1.315642       2.454930  \nV2        0.065486       0.803724      22.057729  \nV3        0.179846       1.027196       9.382558  \nV4       -0.019847       0.743341      16.875344  ",
            "text/html": "<div>\n<style scoped>\n    .dataframe tbody tr th:only-of-type {\n        vertical-align: middle;\n    }\n\n    .dataframe tbody tr th {\n        vertical-align: top;\n    }\n\n    .dataframe thead th {\n        text-align: right;\n    }\n</style>\n<table border=\"1\" class=\"dataframe\">\n  <thead>\n    <tr style=\"text-align: right;\">\n      <th></th>\n      <th>count</th>\n      <th>mean</th>\n      <th>std</th>\n      <th>min</th>\n      <th>25%</th>\n      <th>50%</th>\n      <th>75%</th>\n      <th>max</th>\n    </tr>\n  </thead>\n  <tbody>\n    <tr>\n      <th>Time</th>\n      <td>284807.0</td>\n      <td>9.481386e+04</td>\n      <td>47488.145955</td>\n      <td>0.000000</td>\n      <td>54201.500000</td>\n      <td>84692.000000</td>\n      <td>139320.500000</td>\n      <td>172792.000000</td>\n    </tr>\n    <tr>\n      <th>V1</th>\n      <td>284807.0</td>\n      <td>3.919560e-15</td>\n      <td>1.958696</td>\n      <td>-56.407510</td>\n      <td>-0.920373</td>\n      <td>0.018109</td>\n      <td>1.315642</td>\n      <td>2.454930</td>\n    </tr>\n    <tr>\n      <th>V2</th>\n      <td>284807.0</td>\n      <td>5.688174e-16</td>\n      <td>1.651309</td>\n      <td>-72.715728</td>\n      <td>-0.598550</td>\n      <td>0.065486</td>\n      <td>0.803724</td>\n      <td>22.057729</td>\n    </tr>\n    <tr>\n      <th>V3</th>\n      <td>284807.0</td>\n      <td>-8.769071e-15</td>\n      <td>1.516255</td>\n      <td>-48.325589</td>\n      <td>-0.890365</td>\n      <td>0.179846</td>\n      <td>1.027196</td>\n      <td>9.382558</td>\n    </tr>\n    <tr>\n      <th>V4</th>\n      <td>284807.0</td>\n      <td>2.782312e-15</td>\n      <td>1.415869</td>\n      <td>-5.683171</td>\n      <td>-0.848640</td>\n      <td>-0.019847</td>\n      <td>0.743341</td>\n      <td>16.875344</td>\n    </tr>\n  </tbody>\n</table>\n</div>"
          },
          "metadata": {}
        }
      ]
    },
    {
      "metadata": {
        "trusted": true,
        "id": "60dgpi0CZBNF",
        "outputId": "767397a9-b317-429f-8ac6-61df8f03eda3"
      },
      "cell_type": "code",
      "source": [
        "data.shape"
      ],
      "execution_count": null,
      "outputs": [
        {
          "output_type": "execute_result",
          "execution_count": 7,
          "data": {
            "text/plain": "(284807, 31)"
          },
          "metadata": {}
        }
      ]
    },
    {
      "metadata": {
        "id": "wzTVPWrLZBNG"
      },
      "cell_type": "markdown",
      "source": [
        "**Thus there are 284807 rows and 31 columns.**"
      ]
    },
    {
      "metadata": {
        "trusted": true,
        "id": "X3cjJk8XZBNH",
        "outputId": "9b1158fc-89a4-40a4-9512-44d72c01fcda"
      },
      "cell_type": "code",
      "source": [
        "data.columns"
      ],
      "execution_count": null,
      "outputs": [
        {
          "output_type": "execute_result",
          "execution_count": 8,
          "data": {
            "text/plain": "Index(['Time', 'V1', 'V2', 'V3', 'V4', 'V5', 'V6', 'V7', 'V8', 'V9', 'V10',\n       'V11', 'V12', 'V13', 'V14', 'V15', 'V16', 'V17', 'V18', 'V19', 'V20',\n       'V21', 'V22', 'V23', 'V24', 'V25', 'V26', 'V27', 'V28', 'Amount',\n       'Class'],\n      dtype='object')"
          },
          "metadata": {}
        }
      ]
    },
    {
      "metadata": {
        "id": "I7W6sz0WZBNI"
      },
      "cell_type": "markdown",
      "source": [
        "**FRAUD CASES AND GENUINE CASES**"
      ]
    },
    {
      "metadata": {
        "trusted": true,
        "id": "vtG__MNWZBNJ"
      },
      "cell_type": "code",
      "source": [
        "fraud_cases=len(data[data['Class']==1])"
      ],
      "execution_count": null,
      "outputs": []
    },
    {
      "metadata": {
        "trusted": true,
        "id": "5QsCQawAZBNJ",
        "outputId": "d07a288e-4b4f-4f4f-942d-fb4c8966f91a"
      },
      "cell_type": "code",
      "source": [
        "print(' Number of Fraud Cases:',fraud_cases)"
      ],
      "execution_count": null,
      "outputs": [
        {
          "output_type": "stream",
          "text": " Number of Fraud Cases: 492\n",
          "name": "stdout"
        }
      ]
    },
    {
      "metadata": {
        "trusted": true,
        "id": "7b7WR-HWZBNK"
      },
      "cell_type": "code",
      "source": [
        "non_fraud_cases=len(data[data['Class']==0])"
      ],
      "execution_count": null,
      "outputs": []
    },
    {
      "metadata": {
        "trusted": true,
        "id": "tkeLflqlZBNL",
        "outputId": "db782e96-86b5-486c-ebfd-98ed198fa8fb"
      },
      "cell_type": "code",
      "source": [
        "print('Number of Non Fraud Cases:',non_fraud_cases)"
      ],
      "execution_count": null,
      "outputs": [
        {
          "output_type": "stream",
          "text": "Number of Non Fraud Cases: 284315\n",
          "name": "stdout"
        }
      ]
    },
    {
      "metadata": {
        "trusted": true,
        "id": "FA7P-uhnZBNM"
      },
      "cell_type": "code",
      "source": [
        "fraud=data[data['Class']==1]"
      ],
      "execution_count": null,
      "outputs": []
    },
    {
      "metadata": {
        "trusted": true,
        "id": "frjofuH2ZBNM"
      },
      "cell_type": "code",
      "source": [
        "genuine=data[data['Class']==0]"
      ],
      "execution_count": null,
      "outputs": []
    },
    {
      "metadata": {
        "trusted": true,
        "id": "t3JA_hXDZBNN",
        "outputId": "14bef3a6-0ad9-4acf-bc41-8a4638f3a278"
      },
      "cell_type": "code",
      "source": [
        "fraud.Amount.describe()"
      ],
      "execution_count": null,
      "outputs": [
        {
          "output_type": "execute_result",
          "execution_count": 15,
          "data": {
            "text/plain": "count     492.000000\nmean      122.211321\nstd       256.683288\nmin         0.000000\n25%         1.000000\n50%         9.250000\n75%       105.890000\nmax      2125.870000\nName: Amount, dtype: float64"
          },
          "metadata": {}
        }
      ]
    },
    {
      "metadata": {
        "trusted": true,
        "id": "t0ZdfA58ZBNN",
        "outputId": "91eac0a5-ccd2-4fdf-b80e-97b1e17c7a36"
      },
      "cell_type": "code",
      "source": [
        "genuine.Amount.describe()"
      ],
      "execution_count": null,
      "outputs": [
        {
          "output_type": "execute_result",
          "execution_count": 16,
          "data": {
            "text/plain": "count    284315.000000\nmean         88.291022\nstd         250.105092\nmin           0.000000\n25%           5.650000\n50%          22.000000\n75%          77.050000\nmax       25691.160000\nName: Amount, dtype: float64"
          },
          "metadata": {}
        }
      ]
    },
    {
      "metadata": {
        "id": "d6SSge-nZBNO"
      },
      "cell_type": "markdown",
      "source": [
        "**EDA**"
      ]
    },
    {
      "metadata": {
        "id": "iFLUG7I5ZBNQ"
      },
      "cell_type": "markdown",
      "source": [
        "**CORRELATION**"
      ]
    },
    {
      "metadata": {
        "trusted": true,
        "id": "g5y-lN60ZBNQ",
        "outputId": "831fbde4-40a1-44f5-befc-d95106d6b741"
      },
      "cell_type": "code",
      "source": [
        "plt.figure(figsize=(10,8))\n",
        "corr=data.corr()\n",
        "sns.heatmap(corr,cmap='BuPu')"
      ],
      "execution_count": null,
      "outputs": [
        {
          "output_type": "execute_result",
          "execution_count": 19,
          "data": {
            "text/plain": "<matplotlib.axes._subplots.AxesSubplot at 0x7f4c890f89b0>"
          },
          "metadata": {}
        },
        {
          "output_type": "display_data",
          "data": {
            "text/plain": "<Figure size 720x576 with 2 Axes>",
            "image/png": "[encoded data removed]"
          },
          "metadata": {
            "needs_background": "light"
          }
        }
      ]
    },
    {
      "metadata": {
        "id": "eumtcVLRZBNR"
      },
      "cell_type": "markdown",
      "source": [
        "**Let us build our models:**"
      ]
    },
    {
      "metadata": {
        "trusted": true,
        "id": "BovT4yORZBNS"
      },
      "cell_type": "code",
      "source": [
        "from sklearn.model_selection import train_test_split"
      ],
      "execution_count": null,
      "outputs": []
    },
    {
      "metadata": {
        "id": "OThfES8aZBNS"
      },
      "cell_type": "markdown",
      "source": [
        "**Model 1:**"
      ]
    },
    {
      "metadata": {
        "trusted": true,
        "id": "-BIcSrHzZBNe"
      },
      "cell_type": "code",
      "source": [
        "X2=data.drop(['Class'],axis=1)"
      ],
      "execution_count": null,
      "outputs": []
    },
    {
      "metadata": {
        "trusted": true,
        "id": "YQbZCFG6ZBNf"
      },
      "cell_type": "code",
      "source": [
        "y2=data['Class']"
      ],
      "execution_count": null,
      "outputs": []
    },
    {
      "metadata": {
        "trusted": true,
        "id": "ZH968FdVZBNg"
      },
      "cell_type": "code",
      "source": [
        "dt=DecisionTreeRegressor()"
      ],
      "execution_count": null,
      "outputs": []
    },
    {
      "metadata": {
        "trusted": true,
        "id": "Ogn6_YMKZBNg"
      },
      "cell_type": "code",
      "source": [
        "X2_train,X2_test,y2_train,y2_test=train_test_split(X2,y2,test_size=0.3,random_state=123)"
      ],
      "execution_count": null,
      "outputs": []
    },
    {
      "metadata": {
        "trusted": true,
        "id": "QXcAQTifZBNg"
      },
      "cell_type": "code",
      "source": [
        "model3=dt.fit(X2_train,y2_train)"
      ],
      "execution_count": null,
      "outputs": []
    },
    {
      "metadata": {
        "trusted": true,
        "id": "4TOIfhAmZBNh"
      },
      "cell_type": "code",
      "source": [
        "prediction3=model3.predict(X2_test)"
      ],
      "execution_count": null,
      "outputs": []
    },
    {
      "metadata": {
        "trusted": true,
        "id": "b06fPSyXZBNh",
        "outputId": "18ee5681-98a2-4711-e0d4-f56f8d5196c1"
      },
      "cell_type": "code",
      "source": [
        "accuracy_score(y2_test,prediction3)"
      ],
      "execution_count": null,
      "outputs": [
        {
          "output_type": "execute_result",
          "execution_count": 45,
          "data": {
            "text/plain": "0.999133925541004"
          },
          "metadata": {}
        }
      ]
    }
  ],
  "metadata": {
    "kernelspec": {
      "display_name": "Python 3",
      "language": "python",
      "name": "python3"
    },
    "language_info": {
      "codemirror_mode": {
        "name": "ipython",
        "version": 3
      },
      "file_extension": ".py",
      "mimetype": "text/x-python",
      "name": "python",
      "nbconvert_exporter": "python",
      "pygments_lexer": "ipython3",
      "version": "3.7.3"
    },
    "colab": {
      "provenance": [],
      "include_colab_link": true
    }
  },
  "nbformat": 4,
  "nbformat_minor": 0
}