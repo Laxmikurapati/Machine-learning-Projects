{
  "cells": [
    {
      "cell_type": "markdown",
      "metadata": {
        "id": "view-in-github",
        "colab_type": "text"
      },
      "source": [
        "<a href=\"https://colab.research.google.com/github/Laxmikurapati/Machine-learning-Projects/blob/main/Credit_Card_Fraud_Detection.ipynb\" target=\"_parent\"><img src=\"https://colab.research.google.com/assets/colab-badge.svg\" alt=\"Open In Colab\"/></a>"
      ]
    },
    {
      "cell_type": "markdown",
      "source": [
        "\n",
        "#**Credit Card Faurd Detection**\n",
        "\n",
        "\n",
        "\n",
        "\n",
        "![download (4).jpeg](data:image/jpeg;base64,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)\n"
      ],
      "metadata": {
        "id": "8MDpDI67jJqT"
      }
    },
    {
      "metadata": {
        "id": "ag78ROHKZBM3"
      },
      "cell_type": "markdown",
      "source": [
        "**Dataset link**: https://www.kaggle.com/datasets/mlg-ulb/creditcardfraud"
      ]
    },
    {
      "cell_type": "code",
      "source": [
        "from google.colab import drive\n",
        "drive.mount('/content/drive')"
      ],
      "metadata": {
        "id": "vzq1eaPY1Fcx",
        "outputId": "5ca83526-5db7-4c6a-dc83-349945efc2bd",
        "colab": {
          "base_uri": "https://localhost:8080/"
        }
      },
      "execution_count": 1,
      "outputs": [
        {
          "output_type": "stream",
          "name": "stdout",
          "text": [
            "Mounted at /content/drive\n"
          ]
        }
      ]
    },
    {
      "metadata": {
        "trusted": true,
        "id": "OaUh3UOJZBM4"
      },
      "cell_type": "code",
      "source": [
        "import numpy as np\n",
        "from sklearn import metrics \n",
        "import pandas as pd\n",
        "import matplotlib.pyplot as plt\n",
        "import seaborn as sns\n",
        "from pylab import rcParams\n",
        "import warnings\n",
        "from sklearn.tree import DecisionTreeRegressor\n",
        "warnings.filterwarnings('ignore')"
      ],
      "execution_count": 1,
      "outputs": []
    },
    {
      "metadata": {
        "trusted": true,
        "id": "yJlQcqeDZBM8"
      },
      "cell_type": "code",
      "source": [
        "data=pd.read_csv('/content/creditcard.csv')"
      ],
      "execution_count": 3,
      "outputs": []
    },
    {
      "metadata": {
        "trusted": true,
        "id": "1OQf4SAGZBM9",
        "outputId": "5a7c9abe-4bb6-4d6f-cbf7-10e5c48ce8bb",
        "colab": {
          "base_uri": "https://localhost:8080/",
          "height": 299
        }
      },
      "cell_type": "code",
      "source": [
        "data.head()"
      ],
      "execution_count": 4,
      "outputs": [
        {
          "output_type": "execute_result",
          "data": {
            "text/plain": [
              "   Time        V1        V2        V3        V4        V5        V6        V7  \\\n",
              "0     0 -1.359807 -0.072781  2.536347  1.378155 -0.338321  0.462388  0.239599   \n",
              "1     0  1.191857  0.266151  0.166480  0.448154  0.060018 -0.082361 -0.078803   \n",
              "2     1 -1.358354 -1.340163  1.773209  0.379780 -0.503198  1.800499  0.791461   \n",
              "3     1 -0.966272 -0.185226  1.792993 -0.863291 -0.010309  1.247203  0.237609   \n",
              "4     2 -1.158233  0.877737  1.548718  0.403034 -0.407193  0.095921  0.592941   \n",
              "\n",
              "         V8        V9  ...       V21       V22       V23       V24       V25  \\\n",
              "0  0.098698  0.363787  ... -0.018307  0.277838 -0.110474  0.066928  0.128539   \n",
              "1  0.085102 -0.255425  ... -0.225775 -0.638672  0.101288 -0.339846  0.167170   \n",
              "2  0.247676 -1.514654  ...  0.247998  0.771679  0.909412 -0.689281 -0.327642   \n",
              "3  0.377436 -1.387024  ... -0.108300  0.005274 -0.190321 -1.175575  0.647376   \n",
              "4 -0.270533  0.817739  ... -0.009431  0.798278 -0.137458  0.141267 -0.206010   \n",
              "\n",
              "        V26       V27       V28  Amount  Class  \n",
              "0 -0.189115  0.133558 -0.021053  149.62    0.0  \n",
              "1  0.125895 -0.008983  0.014724    2.69    0.0  \n",
              "2 -0.139097 -0.055353 -0.059752  378.66    0.0  \n",
              "3 -0.221929  0.062723  0.061458  123.50    0.0  \n",
              "4  0.502292  0.219422  0.215153   69.99    0.0  \n",
              "\n",
              "[5 rows x 31 columns]"
            ],
            "text/html": [
              "\n",
              "  <div id=\"df-bd109387-20cf-498f-8ff6-54501b93549a\">\n",
              "    <div class=\"colab-df-container\">\n",
              "      <div>\n",
              "<style scoped>\n",
              "    .dataframe tbody tr th:only-of-type {\n",
              "        vertical-align: middle;\n",
              "    }\n",
              "\n",
              "    .dataframe tbody tr th {\n",
              "        vertical-align: top;\n",
              "    }\n",
              "\n",
              "    .dataframe thead th {\n",
              "        text-align: right;\n",
              "    }\n",
              "</style>\n",
              "<table border=\"1\" class=\"dataframe\">\n",
              "  <thead>\n",
              "    <tr style=\"text-align: right;\">\n",
              "      <th></th>\n",
              "      <th>Time</th>\n",
              "      <th>V1</th>\n",
              "      <th>V2</th>\n",
              "      <th>V3</th>\n",
              "      <th>V4</th>\n",
              "      <th>V5</th>\n",
              "      <th>V6</th>\n",
              "      <th>V7</th>\n",
              "      <th>V8</th>\n",
              "      <th>V9</th>\n",
              "      <th>...</th>\n",
              "      <th>V21</th>\n",
              "      <th>V22</th>\n",
              "      <th>V23</th>\n",
              "      <th>V24</th>\n",
              "      <th>V25</th>\n",
              "      <th>V26</th>\n",
              "      <th>V27</th>\n",
              "      <th>V28</th>\n",
              "      <th>Amount</th>\n",
              "      <th>Class</th>\n",
              "    </tr>\n",
              "  </thead>\n",
              "  <tbody>\n",
              "    <tr>\n",
              "      <th>0</th>\n",
              "      <td>0</td>\n",
              "      <td>-1.359807</td>\n",
              "      <td>-0.072781</td>\n",
              "      <td>2.536347</td>\n",
              "      <td>1.378155</td>\n",
              "      <td>-0.338321</td>\n",
              "      <td>0.462388</td>\n",
              "      <td>0.239599</td>\n",
              "      <td>0.098698</td>\n",
              "      <td>0.363787</td>\n",
              "      <td>...</td>\n",
              "      <td>-0.018307</td>\n",
              "      <td>0.277838</td>\n",
              "      <td>-0.110474</td>\n",
              "      <td>0.066928</td>\n",
              "      <td>0.128539</td>\n",
              "      <td>-0.189115</td>\n",
              "      <td>0.133558</td>\n",
              "      <td>-0.021053</td>\n",
              "      <td>149.62</td>\n",
              "      <td>0.0</td>\n",
              "    </tr>\n",
              "    <tr>\n",
              "      <th>1</th>\n",
              "      <td>0</td>\n",
              "      <td>1.191857</td>\n",
              "      <td>0.266151</td>\n",
              "      <td>0.166480</td>\n",
              "      <td>0.448154</td>\n",
              "      <td>0.060018</td>\n",
              "      <td>-0.082361</td>\n",
              "      <td>-0.078803</td>\n",
              "      <td>0.085102</td>\n",
              "      <td>-0.255425</td>\n",
              "      <td>...</td>\n",
              "      <td>-0.225775</td>\n",
              "      <td>-0.638672</td>\n",
              "      <td>0.101288</td>\n",
              "      <td>-0.339846</td>\n",
              "      <td>0.167170</td>\n",
              "      <td>0.125895</td>\n",
              "      <td>-0.008983</td>\n",
              "      <td>0.014724</td>\n",
              "      <td>2.69</td>\n",
              "      <td>0.0</td>\n",
              "    </tr>\n",
              "    <tr>\n",
              "      <th>2</th>\n",
              "      <td>1</td>\n",
              "      <td>-1.358354</td>\n",
              "      <td>-1.340163</td>\n",
              "      <td>1.773209</td>\n",
              "      <td>0.379780</td>\n",
              "      <td>-0.503198</td>\n",
              "      <td>1.800499</td>\n",
              "      <td>0.791461</td>\n",
              "      <td>0.247676</td>\n",
              "      <td>-1.514654</td>\n",
              "      <td>...</td>\n",
              "      <td>0.247998</td>\n",
              "      <td>0.771679</td>\n",
              "      <td>0.909412</td>\n",
              "      <td>-0.689281</td>\n",
              "      <td>-0.327642</td>\n",
              "      <td>-0.139097</td>\n",
              "      <td>-0.055353</td>\n",
              "      <td>-0.059752</td>\n",
              "      <td>378.66</td>\n",
              "      <td>0.0</td>\n",
              "    </tr>\n",
              "    <tr>\n",
              "      <th>3</th>\n",
              "      <td>1</td>\n",
              "      <td>-0.966272</td>\n",
              "      <td>-0.185226</td>\n",
              "      <td>1.792993</td>\n",
              "      <td>-0.863291</td>\n",
              "      <td>-0.010309</td>\n",
              "      <td>1.247203</td>\n",
              "      <td>0.237609</td>\n",
              "      <td>0.377436</td>\n",
              "      <td>-1.387024</td>\n",
              "      <td>...</td>\n",
              "      <td>-0.108300</td>\n",
              "      <td>0.005274</td>\n",
              "      <td>-0.190321</td>\n",
              "      <td>-1.175575</td>\n",
              "      <td>0.647376</td>\n",
              "      <td>-0.221929</td>\n",
              "      <td>0.062723</td>\n",
              "      <td>0.061458</td>\n",
              "      <td>123.50</td>\n",
              "      <td>0.0</td>\n",
              "    </tr>\n",
              "    <tr>\n",
              "      <th>4</th>\n",
              "      <td>2</td>\n",
              "      <td>-1.158233</td>\n",
              "      <td>0.877737</td>\n",
              "      <td>1.548718</td>\n",
              "      <td>0.403034</td>\n",
              "      <td>-0.407193</td>\n",
              "      <td>0.095921</td>\n",
              "      <td>0.592941</td>\n",
              "      <td>-0.270533</td>\n",
              "      <td>0.817739</td>\n",
              "      <td>...</td>\n",
              "      <td>-0.009431</td>\n",
              "      <td>0.798278</td>\n",
              "      <td>-0.137458</td>\n",
              "      <td>0.141267</td>\n",
              "      <td>-0.206010</td>\n",
              "      <td>0.502292</td>\n",
              "      <td>0.219422</td>\n",
              "      <td>0.215153</td>\n",
              "      <td>69.99</td>\n",
              "      <td>0.0</td>\n",
              "    </tr>\n",
              "  </tbody>\n",
              "</table>\n",
              "<p>5 rows × 31 columns</p>\n",
              "</div>\n",
              "      <button class=\"colab-df-convert\" onclick=\"convertToInteractive('df-bd109387-20cf-498f-8ff6-54501b93549a')\"\n",
              "              title=\"Convert this dataframe to an interactive table.\"\n",
              "              style=\"display:none;\">\n",
              "        \n",
              "  <svg xmlns=\"http://www.w3.org/2000/svg\" height=\"24px\"viewBox=\"0 0 24 24\"\n",
              "       width=\"24px\">\n",
              "    <path d=\"M0 0h24v24H0V0z\" fill=\"none\"/>\n",
              "    <path d=\"M18.56 5.44l.94 2.06.94-2.06 2.06-.94-2.06-.94-.94-2.06-.94 2.06-2.06.94zm-11 1L8.5 8.5l.94-2.06 2.06-.94-2.06-.94L8.5 2.5l-.94 2.06-2.06.94zm10 10l.94 2.06.94-2.06 2.06-.94-2.06-.94-.94-2.06-.94 2.06-2.06.94z\"/><path d=\"M17.41 7.96l-1.37-1.37c-.4-.4-.92-.59-1.43-.59-.52 0-1.04.2-1.43.59L10.3 9.45l-7.72 7.72c-.78.78-.78 2.05 0 2.83L4 21.41c.39.39.9.59 1.41.59.51 0 1.02-.2 1.41-.59l7.78-7.78 2.81-2.81c.8-.78.8-2.07 0-2.86zM5.41 20L4 18.59l7.72-7.72 1.47 1.35L5.41 20z\"/>\n",
              "  </svg>\n",
              "      </button>\n",
              "      \n",
              "  <style>\n",
              "    .colab-df-container {\n",
              "      display:flex;\n",
              "      flex-wrap:wrap;\n",
              "      gap: 12px;\n",
              "    }\n",
              "\n",
              "    .colab-df-convert {\n",
              "      background-color: #E8F0FE;\n",
              "      border: none;\n",
              "      border-radius: 50%;\n",
              "      cursor: pointer;\n",
              "      display: none;\n",
              "      fill: #1967D2;\n",
              "      height: 32px;\n",
              "      padding: 0 0 0 0;\n",
              "      width: 32px;\n",
              "    }\n",
              "\n",
              "    .colab-df-convert:hover {\n",
              "      background-color: #E2EBFA;\n",
              "      box-shadow: 0px 1px 2px rgba(60, 64, 67, 0.3), 0px 1px 3px 1px rgba(60, 64, 67, 0.15);\n",
              "      fill: #174EA6;\n",
              "    }\n",
              "\n",
              "    [theme=dark] .colab-df-convert {\n",
              "      background-color: #3B4455;\n",
              "      fill: #D2E3FC;\n",
              "    }\n",
              "\n",
              "    [theme=dark] .colab-df-convert:hover {\n",
              "      background-color: #434B5C;\n",
              "      box-shadow: 0px 1px 3px 1px rgba(0, 0, 0, 0.15);\n",
              "      filter: drop-shadow(0px 1px 2px rgba(0, 0, 0, 0.3));\n",
              "      fill: #FFFFFF;\n",
              "    }\n",
              "  </style>\n",
              "\n",
              "      <script>\n",
              "        const buttonEl =\n",
              "          document.querySelector('#df-bd109387-20cf-498f-8ff6-54501b93549a button.colab-df-convert');\n",
              "        buttonEl.style.display =\n",
              "          google.colab.kernel.accessAllowed ? 'block' : 'none';\n",
              "\n",
              "        async function convertToInteractive(key) {\n",
              "          const element = document.querySelector('#df-bd109387-20cf-498f-8ff6-54501b93549a');\n",
              "          const dataTable =\n",
              "            await google.colab.kernel.invokeFunction('convertToInteractive',\n",
              "                                                     [key], {});\n",
              "          if (!dataTable) return;\n",
              "\n",
              "          const docLinkHtml = 'Like what you see? Visit the ' +\n",
              "            '<a target=\"_blank\" href=https://colab.research.google.com/notebooks/data_table.ipynb>data table notebook</a>'\n",
              "            + ' to learn more about interactive tables.';\n",
              "          element.innerHTML = '';\n",
              "          dataTable['output_type'] = 'display_data';\n",
              "          await google.colab.output.renderOutput(dataTable, element);\n",
              "          const docLink = document.createElement('div');\n",
              "          docLink.innerHTML = docLinkHtml;\n",
              "          element.appendChild(docLink);\n",
              "        }\n",
              "      </script>\n",
              "    </div>\n",
              "  </div>\n",
              "  "
            ]
          },
          "metadata": {},
          "execution_count": 4
        }
      ]
    },
    {
      "metadata": {
        "trusted": true,
        "id": "igwgr2JjZBNC",
        "outputId": "036144cc-38f2-4d18-8437-1c246d5b4157",
        "colab": {
          "base_uri": "https://localhost:8080/"
        }
      },
      "cell_type": "code",
      "source": [
        "data.info()"
      ],
      "execution_count": 5,
      "outputs": [
        {
          "output_type": "stream",
          "name": "stdout",
          "text": [
            "<class 'pandas.core.frame.DataFrame'>\n",
            "RangeIndex: 5974 entries, 0 to 5973\n",
            "Data columns (total 31 columns):\n",
            " #   Column  Non-Null Count  Dtype  \n",
            "---  ------  --------------  -----  \n",
            " 0   Time    5974 non-null   int64  \n",
            " 1   V1      5974 non-null   float64\n",
            " 2   V2      5974 non-null   float64\n",
            " 3   V3      5974 non-null   float64\n",
            " 4   V4      5974 non-null   float64\n",
            " 5   V5      5974 non-null   float64\n",
            " 6   V6      5974 non-null   float64\n",
            " 7   V7      5974 non-null   float64\n",
            " 8   V8      5974 non-null   float64\n",
            " 9   V9      5974 non-null   float64\n",
            " 10  V10     5974 non-null   float64\n",
            " 11  V11     5974 non-null   float64\n",
            " 12  V12     5974 non-null   float64\n",
            " 13  V13     5974 non-null   float64\n",
            " 14  V14     5974 non-null   float64\n",
            " 15  V15     5974 non-null   float64\n",
            " 16  V16     5974 non-null   float64\n",
            " 17  V17     5974 non-null   float64\n",
            " 18  V18     5973 non-null   float64\n",
            " 19  V19     5973 non-null   float64\n",
            " 20  V20     5973 non-null   float64\n",
            " 21  V21     5973 non-null   float64\n",
            " 22  V22     5973 non-null   float64\n",
            " 23  V23     5973 non-null   float64\n",
            " 24  V24     5973 non-null   float64\n",
            " 25  V25     5973 non-null   float64\n",
            " 26  V26     5973 non-null   float64\n",
            " 27  V27     5973 non-null   float64\n",
            " 28  V28     5973 non-null   float64\n",
            " 29  Amount  5973 non-null   float64\n",
            " 30  Class   5973 non-null   float64\n",
            "dtypes: float64(30), int64(1)\n",
            "memory usage: 1.4 MB\n"
          ]
        }
      ]
    },
    {
      "cell_type": "markdown",
      "source": [
        "We got no categorical Values, so we can continue without any onehot encoding or label encoding"
      ],
      "metadata": {
        "id": "qk5XDnXxt6my"
      }
    },
    {
      "metadata": {
        "trusted": true,
        "id": "60dgpi0CZBNF",
        "outputId": "33baa0a9-141c-4aea-ffc0-e2aae50ce59d",
        "colab": {
          "base_uri": "https://localhost:8080/"
        }
      },
      "cell_type": "code",
      "source": [
        "data.shape"
      ],
      "execution_count": 7,
      "outputs": [
        {
          "output_type": "execute_result",
          "data": {
            "text/plain": [
              "(5974, 31)"
            ]
          },
          "metadata": {},
          "execution_count": 7
        }
      ]
    },
    {
      "metadata": {
        "trusted": true,
        "id": "X3cjJk8XZBNH",
        "outputId": "67aba3b1-ff59-47fe-d26e-77fa9f7be821",
        "colab": {
          "base_uri": "https://localhost:8080/"
        }
      },
      "cell_type": "code",
      "source": [
        "data.columns"
      ],
      "execution_count": 8,
      "outputs": [
        {
          "output_type": "execute_result",
          "data": {
            "text/plain": [
              "Index(['Time', 'V1', 'V2', 'V3', 'V4', 'V5', 'V6', 'V7', 'V8', 'V9', 'V10',\n",
              "       'V11', 'V12', 'V13', 'V14', 'V15', 'V16', 'V17', 'V18', 'V19', 'V20',\n",
              "       'V21', 'V22', 'V23', 'V24', 'V25', 'V26', 'V27', 'V28', 'Amount',\n",
              "       'Class'],\n",
              "      dtype='object')"
            ]
          },
          "metadata": {},
          "execution_count": 8
        }
      ]
    },
    {
      "cell_type": "code",
      "source": [
        "data.isnull().sum()"
      ],
      "metadata": {
        "colab": {
          "base_uri": "https://localhost:8080/"
        },
        "id": "1qaW4TgOt2cE",
        "outputId": "d7b79dd1-fa33-4b0e-b336-94226f554691"
      },
      "execution_count": 12,
      "outputs": [
        {
          "output_type": "execute_result",
          "data": {
            "text/plain": [
              "Time      0\n",
              "V1        0\n",
              "V2        0\n",
              "V3        0\n",
              "V4        0\n",
              "V5        0\n",
              "V6        0\n",
              "V7        0\n",
              "V8        0\n",
              "V9        0\n",
              "V10       0\n",
              "V11       0\n",
              "V12       0\n",
              "V13       0\n",
              "V14       0\n",
              "V15       0\n",
              "V16       0\n",
              "V17       0\n",
              "V18       1\n",
              "V19       1\n",
              "V20       1\n",
              "V21       1\n",
              "V22       1\n",
              "V23       1\n",
              "V24       1\n",
              "V25       1\n",
              "V26       1\n",
              "V27       1\n",
              "V28       1\n",
              "Amount    1\n",
              "Class     1\n",
              "dtype: int64"
            ]
          },
          "metadata": {},
          "execution_count": 12
        }
      ]
    },
    {
      "cell_type": "code",
      "source": [
        "data.dropna(inplace=True)"
      ],
      "metadata": {
        "id": "Y_SNON-Rt2aC"
      },
      "execution_count": 14,
      "outputs": []
    },
    {
      "cell_type": "code",
      "source": [
        "data.isnull().sum()"
      ],
      "metadata": {
        "colab": {
          "base_uri": "https://localhost:8080/"
        },
        "id": "X2Vwf0iTt2Vd",
        "outputId": "411b42ef-711e-43ca-9751-98656d74a2b9"
      },
      "execution_count": 15,
      "outputs": [
        {
          "output_type": "execute_result",
          "data": {
            "text/plain": [
              "Time      0\n",
              "V1        0\n",
              "V2        0\n",
              "V3        0\n",
              "V4        0\n",
              "V5        0\n",
              "V6        0\n",
              "V7        0\n",
              "V8        0\n",
              "V9        0\n",
              "V10       0\n",
              "V11       0\n",
              "V12       0\n",
              "V13       0\n",
              "V14       0\n",
              "V15       0\n",
              "V16       0\n",
              "V17       0\n",
              "V18       0\n",
              "V19       0\n",
              "V20       0\n",
              "V21       0\n",
              "V22       0\n",
              "V23       0\n",
              "V24       0\n",
              "V25       0\n",
              "V26       0\n",
              "V27       0\n",
              "V28       0\n",
              "Amount    0\n",
              "Class     0\n",
              "dtype: int64"
            ]
          },
          "metadata": {},
          "execution_count": 15
        }
      ]
    },
    {
      "cell_type": "code",
      "source": [
        "data['Class'].value_counts()"
      ],
      "metadata": {
        "colab": {
          "base_uri": "https://localhost:8080/"
        },
        "id": "FD39Y-bFt2Hu",
        "outputId": "ed8e0296-d70f-4aee-f06a-1d87439da0a4"
      },
      "execution_count": 17,
      "outputs": [
        {
          "output_type": "execute_result",
          "data": {
            "text/plain": [
              "0.0    5970\n",
              "1.0       3\n",
              "Name: Class, dtype: int64"
            ]
          },
          "metadata": {},
          "execution_count": 17
        }
      ]
    },
    {
      "metadata": {
        "trusted": true,
        "id": "vtG__MNWZBNJ",
        "colab": {
          "base_uri": "https://localhost:8080/",
          "height": 465
        },
        "outputId": "0a1ce454-dbcc-43eb-d252-4af0cbe230e8"
      },
      "cell_type": "code",
      "source": [
        "label_size = [data['Class'].sum(), len(data['Class'])- data['Class'].sum()]\n",
        "plt.bar(['Fraud','Real'],label_size)\n",
        "print('Fraud Cases: {}'.format(len(data[data['Class'] == 1]))) \n",
        "print('Valid Transactions: {}'.format(len(data[data['Class'] == 0]))) \n"
      ],
      "execution_count": 20,
      "outputs": [
        {
          "output_type": "stream",
          "name": "stdout",
          "text": [
            "Fraud Cases: 3\n",
            "Valid Transactions: 5970\n"
          ]
        },
        {
          "output_type": "display_data",
          "data": {
            "text/plain": [
              "<Figure size 640x480 with 1 Axes>"
            ],
            "image/png": "[encoded data removed]"
          },
          "metadata": {}
        }
      ]
    },
    {
      "cell_type": "markdown",
      "source": [
        "From the above analysis we can say that the dataset is imbalance so we got to balance the dataset\n"
      ],
      "metadata": {
        "id": "yv7Zzw_9tb2T"
      }
    },
    {
      "cell_type": "code",
      "source": [
        "X=data.drop('Class',axis=1)\n",
        "y=data['Class']"
      ],
      "metadata": {
        "id": "XrXNO3W-wgNo"
      },
      "execution_count": 25,
      "outputs": []
    },
    {
      "cell_type": "code",
      "source": [
        "from sklearn.model_selection import train_test_split\n",
        "X_train, X_test, y_train, y_test = train_test_split(X, y, test_size=0.2, random_state=15, stratify=y)"
      ],
      "metadata": {
        "id": "yIlu4ma3wbHq"
      },
      "execution_count": 26,
      "outputs": []
    },
    {
      "cell_type": "code",
      "source": [
        "print(X_train.shape)\n",
        "print(y_train.shape)\n"
      ],
      "metadata": {
        "colab": {
          "base_uri": "https://localhost:8080/"
        },
        "id": "hBaypCT5wpZM",
        "outputId": "243efb0b-613f-4eb0-f654-177ec4eb1037"
      },
      "execution_count": 29,
      "outputs": [
        {
          "output_type": "stream",
          "name": "stdout",
          "text": [
            "(4778, 30)\n",
            "(4778,)\n"
          ]
        }
      ]
    },
    {
      "cell_type": "markdown",
      "source": [
        "# **Building ANN Model in tenserflow/Keras**"
      ],
      "metadata": {
        "id": "TySB_srOvrm3"
      }
    },
    {
      "cell_type": "code",
      "source": [
        "!pip install tensorflow-addons==0.16.1\n",
        "import tensorflow_addons as tfa"
      ],
      "metadata": {
        "colab": {
          "base_uri": "https://localhost:8080/"
        },
        "id": "KuUZgJGqvpSv",
        "outputId": "7cd94066-0658-495b-c6d6-3677f66e1f94"
      },
      "execution_count": 22,
      "outputs": [
        {
          "output_type": "stream",
          "name": "stdout",
          "text": [
            "Looking in indexes: https://pypi.org/simple, https://us-python.pkg.dev/colab-wheels/public/simple/\n",
            "Collecting tensorflow-addons==0.16.1\n",
            "  Downloading tensorflow_addons-0.16.1-cp310-cp310-manylinux_2_12_x86_64.manylinux2010_x86_64.whl (1.1 MB)\n",
            "\u001b[2K     \u001b[90m━━━━━━━━━━━━━━━━━━━━━━━━━━━━━━━━━━━━━━━━\u001b[0m \u001b[32m1.1/1.1 MB\u001b[0m \u001b[31m22.6 MB/s\u001b[0m eta \u001b[36m0:00:00\u001b[0m\n",
            "\u001b[?25hCollecting typeguard>=2.7 (from tensorflow-addons==0.16.1)\n",
            "  Downloading typeguard-4.0.0-py3-none-any.whl (33 kB)\n",
            "Requirement already satisfied: typing-extensions>=4.4.0 in /usr/local/lib/python3.10/dist-packages (from typeguard>=2.7->tensorflow-addons==0.16.1) (4.5.0)\n",
            "Installing collected packages: typeguard, tensorflow-addons\n",
            "Successfully installed tensorflow-addons-0.16.1 typeguard-4.0.0\n"
          ]
        }
      ]
    },
    {
      "cell_type": "code",
      "source": [
        "import tensorflow as tf\n",
        "from tensorflow import keras\n",
        "from sklearn.metrics import confusion_matrix , classification_report"
      ],
      "metadata": {
        "id": "nGALK4AYvpOZ"
      },
      "execution_count": 23,
      "outputs": []
    },
    {
      "cell_type": "code",
      "source": [
        "def ANN(X_train, y_train, X_test, y_test, loss, weights):\n",
        "    model = keras.Sequential([\n",
        "        keras.layers.Dense(26, input_dim=30, activation='relu'),\n",
        "        keras.layers.Dense(15, activation='relu'),\n",
        "        keras.layers.Dense(1, activation='sigmoid')\n",
        "    ])\n",
        "\n",
        "    model.compile(optimizer='adam', loss=loss, metrics=['accuracy'])\n",
        "    \n",
        "    if weights == -1:\n",
        "        model.fit(X_train, y_train, epochs=100)\n",
        "    else:\n",
        "        model.fit(X_train, y_train, epochs=100, class_weight = weights)\n",
        "    \n",
        "    print(model.evaluate(X_test, y_test))\n",
        "    \n",
        "    y_preds = model.predict(X_test)\n",
        "    y_preds = np.round(y_preds)\n",
        "    \n",
        "    print(\"Classification Report: \\n\", classification_report(y_test, y_preds))\n",
        "    \n",
        "    return y_preds"
      ],
      "metadata": {
        "id": "LGzlJhUlvpJl"
      },
      "execution_count": 31,
      "outputs": []
    },
    {
      "cell_type": "code",
      "source": [
        "y_preds = ANN(X_train, y_train, X_test, y_test, 'binary_crossentropy', -1)"
      ],
      "metadata": {
        "colab": {
          "base_uri": "https://localhost:8080/"
        },
        "id": "YGefYVYcvpFA",
        "outputId": "9e430d8b-c81a-4a60-c902-53d8732bd6b9"
      },
      "execution_count": 32,
      "outputs": [
        {
          "output_type": "stream",
          "name": "stdout",
          "text": [
            "Epoch 1/100\n",
            "150/150 [==============================] - 1s 2ms/step - loss: 0.0421 - accuracy: 0.9985\n",
            "Epoch 2/100\n",
            "150/150 [==============================] - 0s 2ms/step - loss: 0.0161 - accuracy: 0.9996\n",
            "Epoch 3/100\n",
            "150/150 [==============================] - 0s 2ms/step - loss: 0.0159 - accuracy: 0.9996\n",
            "Epoch 4/100\n",
            "150/150 [==============================] - 0s 2ms/step - loss: 0.0130 - accuracy: 0.9990\n",
            "Epoch 5/100\n",
            "150/150 [==============================] - 0s 2ms/step - loss: 0.0155 - accuracy: 0.9996\n",
            "Epoch 6/100\n",
            "150/150 [==============================] - 0s 2ms/step - loss: 0.0100 - accuracy: 0.9996\n",
            "Epoch 7/100\n",
            "150/150 [==============================] - 0s 2ms/step - loss: 0.0124 - accuracy: 0.9994\n",
            "Epoch 8/100\n",
            "150/150 [==============================] - 0s 2ms/step - loss: 0.0140 - accuracy: 0.9996\n",
            "Epoch 9/100\n",
            "150/150 [==============================] - 0s 2ms/step - loss: 0.0088 - accuracy: 0.9994\n",
            "Epoch 10/100\n",
            "150/150 [==============================] - 0s 2ms/step - loss: 0.0128 - accuracy: 0.9992\n",
            "Epoch 11/100\n",
            "150/150 [==============================] - 0s 2ms/step - loss: 0.0177 - accuracy: 0.9996\n",
            "Epoch 12/100\n",
            "150/150 [==============================] - 0s 2ms/step - loss: 0.0117 - accuracy: 0.9996\n",
            "Epoch 13/100\n",
            "150/150 [==============================] - 0s 2ms/step - loss: 0.0075 - accuracy: 0.9996\n",
            "Epoch 14/100\n",
            "150/150 [==============================] - 0s 2ms/step - loss: 0.0085 - accuracy: 0.9996\n",
            "Epoch 15/100\n",
            "150/150 [==============================] - 0s 2ms/step - loss: 0.0116 - accuracy: 0.9994\n",
            "Epoch 16/100\n",
            "150/150 [==============================] - 0s 2ms/step - loss: 0.0129 - accuracy: 0.9996\n",
            "Epoch 17/100\n",
            "150/150 [==============================] - 0s 3ms/step - loss: 0.0024 - accuracy: 0.9994\n",
            "Epoch 18/100\n",
            "150/150 [==============================] - 0s 2ms/step - loss: 0.0058 - accuracy: 0.9994\n",
            "Epoch 19/100\n",
            "150/150 [==============================] - 0s 2ms/step - loss: 0.0049 - accuracy: 0.9994\n",
            "Epoch 20/100\n",
            "150/150 [==============================] - 0s 2ms/step - loss: 0.0047 - accuracy: 0.9996\n",
            "Epoch 21/100\n",
            "150/150 [==============================] - 0s 2ms/step - loss: 0.0173 - accuracy: 0.9996\n",
            "Epoch 22/100\n",
            "150/150 [==============================] - 0s 2ms/step - loss: 0.0070 - accuracy: 0.9996\n",
            "Epoch 23/100\n",
            "150/150 [==============================] - 0s 2ms/step - loss: 0.0096 - accuracy: 0.9992\n",
            "Epoch 24/100\n",
            "150/150 [==============================] - 0s 2ms/step - loss: 0.0191 - accuracy: 0.9996\n",
            "Epoch 25/100\n",
            "150/150 [==============================] - 0s 2ms/step - loss: 0.0094 - accuracy: 0.9996\n",
            "Epoch 26/100\n",
            "150/150 [==============================] - 0s 2ms/step - loss: 0.0029 - accuracy: 0.9994\n",
            "Epoch 27/100\n",
            "150/150 [==============================] - 0s 2ms/step - loss: 0.0042 - accuracy: 0.9998\n",
            "Epoch 28/100\n",
            "150/150 [==============================] - 0s 2ms/step - loss: 0.0048 - accuracy: 0.9994\n",
            "Epoch 29/100\n",
            "150/150 [==============================] - 0s 2ms/step - loss: 0.0151 - accuracy: 0.9996\n",
            "Epoch 30/100\n",
            "150/150 [==============================] - 0s 2ms/step - loss: 0.0095 - accuracy: 0.9998\n",
            "Epoch 31/100\n",
            "150/150 [==============================] - 0s 2ms/step - loss: 0.0061 - accuracy: 0.9998\n",
            "Epoch 32/100\n",
            "150/150 [==============================] - 0s 2ms/step - loss: 0.0034 - accuracy: 0.9996\n",
            "Epoch 33/100\n",
            "150/150 [==============================] - 0s 2ms/step - loss: 0.0010 - accuracy: 0.9998\n",
            "Epoch 34/100\n",
            "150/150 [==============================] - 0s 2ms/step - loss: 8.7023e-04 - accuracy: 0.9998\n",
            "Epoch 35/100\n",
            "150/150 [==============================] - 0s 2ms/step - loss: 8.4892e-04 - accuracy: 0.9998\n",
            "Epoch 36/100\n",
            "150/150 [==============================] - 0s 2ms/step - loss: 4.0463e-04 - accuracy: 1.0000\n",
            "Epoch 37/100\n",
            "150/150 [==============================] - 0s 2ms/step - loss: 5.5386e-04 - accuracy: 0.9998\n",
            "Epoch 38/100\n",
            "150/150 [==============================] - 0s 2ms/step - loss: 0.0054 - accuracy: 0.9994\n",
            "Epoch 39/100\n",
            "150/150 [==============================] - 0s 2ms/step - loss: 0.0041 - accuracy: 0.9994\n",
            "Epoch 40/100\n",
            "150/150 [==============================] - 0s 2ms/step - loss: 0.0012 - accuracy: 0.9996\n",
            "Epoch 41/100\n",
            "150/150 [==============================] - 0s 2ms/step - loss: 4.4687e-04 - accuracy: 0.9998\n",
            "Epoch 42/100\n",
            "150/150 [==============================] - 0s 2ms/step - loss: 2.6820e-04 - accuracy: 1.0000\n",
            "Epoch 43/100\n",
            "150/150 [==============================] - 0s 2ms/step - loss: 0.0015 - accuracy: 0.9996\n",
            "Epoch 44/100\n",
            "150/150 [==============================] - 1s 5ms/step - loss: 0.0073 - accuracy: 0.9998\n",
            "Epoch 45/100\n",
            "150/150 [==============================] - 1s 4ms/step - loss: 2.3974e-04 - accuracy: 1.0000\n",
            "Epoch 46/100\n",
            "150/150 [==============================] - 0s 2ms/step - loss: 2.2959e-04 - accuracy: 1.0000\n",
            "Epoch 47/100\n",
            "150/150 [==============================] - 0s 2ms/step - loss: 4.8655e-04 - accuracy: 0.9998\n",
            "Epoch 48/100\n",
            "150/150 [==============================] - 0s 2ms/step - loss: 3.1730e-04 - accuracy: 1.0000\n",
            "Epoch 49/100\n",
            "150/150 [==============================] - 0s 2ms/step - loss: 1.5278e-04 - accuracy: 1.0000\n",
            "Epoch 50/100\n",
            "150/150 [==============================] - 0s 2ms/step - loss: 1.7976e-04 - accuracy: 1.0000\n",
            "Epoch 51/100\n",
            "150/150 [==============================] - 0s 2ms/step - loss: 1.4181e-04 - accuracy: 1.0000\n",
            "Epoch 52/100\n",
            "150/150 [==============================] - 0s 2ms/step - loss: 1.0969e-04 - accuracy: 1.0000\n",
            "Epoch 53/100\n",
            "150/150 [==============================] - 0s 2ms/step - loss: 1.1141e-04 - accuracy: 1.0000\n",
            "Epoch 54/100\n",
            "150/150 [==============================] - 0s 3ms/step - loss: 1.0230e-04 - accuracy: 1.0000\n",
            "Epoch 55/100\n",
            "150/150 [==============================] - 0s 2ms/step - loss: 0.0015 - accuracy: 0.9998\n",
            "Epoch 56/100\n",
            "150/150 [==============================] - 0s 2ms/step - loss: 0.0174 - accuracy: 0.9996\n",
            "Epoch 57/100\n",
            "150/150 [==============================] - 0s 2ms/step - loss: 0.0071 - accuracy: 0.9996\n",
            "Epoch 58/100\n",
            "150/150 [==============================] - 0s 2ms/step - loss: 0.0018 - accuracy: 0.9998\n",
            "Epoch 59/100\n",
            "150/150 [==============================] - 0s 2ms/step - loss: 0.0021 - accuracy: 0.9994\n",
            "Epoch 60/100\n",
            "150/150 [==============================] - 0s 2ms/step - loss: 0.0040 - accuracy: 0.9990\n",
            "Epoch 61/100\n",
            "150/150 [==============================] - 0s 2ms/step - loss: 0.0078 - accuracy: 0.9994\n",
            "Epoch 62/100\n",
            "150/150 [==============================] - 0s 2ms/step - loss: 0.0128 - accuracy: 0.9996\n",
            "Epoch 63/100\n",
            "150/150 [==============================] - 0s 2ms/step - loss: 0.0059 - accuracy: 0.9998\n",
            "Epoch 64/100\n",
            "150/150 [==============================] - 0s 2ms/step - loss: 0.0028 - accuracy: 0.9996\n",
            "Epoch 65/100\n",
            "150/150 [==============================] - 0s 2ms/step - loss: 5.2152e-04 - accuracy: 0.9998\n",
            "Epoch 66/100\n",
            "150/150 [==============================] - 0s 2ms/step - loss: 4.0573e-04 - accuracy: 0.9998\n",
            "Epoch 67/100\n",
            "150/150 [==============================] - 0s 2ms/step - loss: 2.3960e-04 - accuracy: 1.0000\n",
            "Epoch 68/100\n",
            "150/150 [==============================] - 0s 2ms/step - loss: 1.9395e-04 - accuracy: 1.0000\n",
            "Epoch 69/100\n",
            "150/150 [==============================] - 0s 2ms/step - loss: 1.9195e-04 - accuracy: 1.0000\n",
            "Epoch 70/100\n",
            "150/150 [==============================] - 0s 2ms/step - loss: 1.7273e-04 - accuracy: 1.0000\n",
            "Epoch 71/100\n",
            "150/150 [==============================] - 0s 2ms/step - loss: 5.3894e-04 - accuracy: 0.9996\n",
            "Epoch 72/100\n",
            "150/150 [==============================] - 0s 2ms/step - loss: 8.3112e-04 - accuracy: 0.9996\n",
            "Epoch 73/100\n",
            "150/150 [==============================] - 0s 2ms/step - loss: 0.0033 - accuracy: 0.9998\n",
            "Epoch 74/100\n",
            "150/150 [==============================] - 0s 2ms/step - loss: 4.7841e-04 - accuracy: 0.9998\n",
            "Epoch 75/100\n",
            "150/150 [==============================] - 0s 2ms/step - loss: 0.0056 - accuracy: 0.9992\n",
            "Epoch 76/100\n",
            "150/150 [==============================] - 0s 2ms/step - loss: 0.0032 - accuracy: 0.9998\n",
            "Epoch 77/100\n",
            "150/150 [==============================] - 0s 2ms/step - loss: 4.1635e-04 - accuracy: 0.9998\n",
            "Epoch 78/100\n",
            "150/150 [==============================] - 0s 2ms/step - loss: 8.5056e-05 - accuracy: 1.0000\n",
            "Epoch 79/100\n",
            "150/150 [==============================] - 0s 2ms/step - loss: 5.9514e-05 - accuracy: 1.0000\n",
            "Epoch 80/100\n",
            "150/150 [==============================] - 0s 2ms/step - loss: 4.0902e-05 - accuracy: 1.0000\n",
            "Epoch 81/100\n",
            "150/150 [==============================] - 0s 2ms/step - loss: 3.4700e-05 - accuracy: 1.0000\n",
            "Epoch 82/100\n",
            "150/150 [==============================] - 0s 2ms/step - loss: 3.2480e-05 - accuracy: 1.0000\n",
            "Epoch 83/100\n",
            "150/150 [==============================] - 0s 2ms/step - loss: 3.0332e-05 - accuracy: 1.0000\n",
            "Epoch 84/100\n",
            "150/150 [==============================] - 0s 2ms/step - loss: 2.9840e-05 - accuracy: 1.0000\n",
            "Epoch 85/100\n",
            "150/150 [==============================] - 0s 2ms/step - loss: 2.5895e-05 - accuracy: 1.0000\n",
            "Epoch 86/100\n",
            "150/150 [==============================] - 0s 2ms/step - loss: 2.5295e-05 - accuracy: 1.0000\n",
            "Epoch 87/100\n",
            "150/150 [==============================] - 0s 2ms/step - loss: 2.2823e-05 - accuracy: 1.0000\n",
            "Epoch 88/100\n",
            "150/150 [==============================] - 0s 2ms/step - loss: 1.9847e-05 - accuracy: 1.0000\n",
            "Epoch 89/100\n",
            "150/150 [==============================] - 0s 2ms/step - loss: 1.8416e-05 - accuracy: 1.0000\n",
            "Epoch 90/100\n",
            "150/150 [==============================] - 0s 2ms/step - loss: 1.6756e-05 - accuracy: 1.0000\n",
            "Epoch 91/100\n",
            "150/150 [==============================] - 0s 2ms/step - loss: 1.5763e-05 - accuracy: 1.0000\n",
            "Epoch 92/100\n",
            "150/150 [==============================] - 0s 2ms/step - loss: 1.4063e-05 - accuracy: 1.0000\n",
            "Epoch 93/100\n",
            "150/150 [==============================] - 0s 2ms/step - loss: 1.3149e-05 - accuracy: 1.0000\n",
            "Epoch 94/100\n",
            "150/150 [==============================] - 0s 2ms/step - loss: 1.2810e-05 - accuracy: 1.0000\n",
            "Epoch 95/100\n",
            "150/150 [==============================] - 0s 2ms/step - loss: 1.1173e-05 - accuracy: 1.0000\n",
            "Epoch 96/100\n",
            "150/150 [==============================] - 0s 2ms/step - loss: 1.1051e-05 - accuracy: 1.0000\n",
            "Epoch 97/100\n",
            "150/150 [==============================] - 0s 2ms/step - loss: 9.8764e-06 - accuracy: 1.0000\n",
            "Epoch 98/100\n",
            "150/150 [==============================] - 0s 2ms/step - loss: 9.0995e-06 - accuracy: 1.0000\n",
            "Epoch 99/100\n",
            "150/150 [==============================] - 0s 2ms/step - loss: 8.3849e-06 - accuracy: 1.0000\n",
            "Epoch 100/100\n",
            "150/150 [==============================] - 0s 2ms/step - loss: 7.7089e-06 - accuracy: 1.0000\n",
            "38/38 [==============================] - 0s 2ms/step - loss: 0.2502 - accuracy: 0.9992\n",
            "[0.25023362040519714, 0.9991631507873535]\n",
            "38/38 [==============================] - 0s 2ms/step\n",
            "Classification Report: \n",
            "               precision    recall  f1-score   support\n",
            "\n",
            "         0.0       1.00      1.00      1.00      1194\n",
            "         1.0       0.00      0.00      0.00         1\n",
            "\n",
            "    accuracy                           1.00      1195\n",
            "   macro avg       0.50      0.50      0.50      1195\n",
            "weighted avg       1.00      1.00      1.00      1195\n",
            "\n"
          ]
        }
      ]
    },
    {
      "cell_type": "code",
      "source": [
        "from sklearn.metrics import confusion_matrix\n",
        "from matplotlib import pyplot as plt\n",
        "\n",
        "conf_mat = confusion_matrix(y_true=y_test, y_pred=y_preds)\n",
        "print('Confusion matrix:\\n', conf_mat)\n",
        "\n",
        "labels = ['Class 0', 'Class 1']\n",
        "fig = plt.figure()\n",
        "ax = fig.add_subplot(111)\n",
        "cax = ax.matshow(conf_mat, cmap=plt.cm.Blues)\n",
        "fig.colorbar(cax)\n",
        "ax.set_xticklabels([''] + labels)\n",
        "ax.set_yticklabels([''] + labels)\n",
        "plt.xlabel('Predicted')\n",
        "plt.ylabel('Expected')\n",
        "plt.show()"
      ],
      "metadata": {
        "colab": {
          "base_uri": "https://localhost:8080/",
          "height": 506
        },
        "id": "cl_uMhqlvpAJ",
        "outputId": "3832c372-f842-4cb6-ce46-58d692091344"
      },
      "execution_count": 33,
      "outputs": [
        {
          "output_type": "stream",
          "name": "stdout",
          "text": [
            "Confusion matrix:\n",
            " [[1194    0]\n",
            " [   1    0]]\n"
          ]
        },
        {
          "output_type": "display_data",
          "data": {
            "text/plain": [
              "<Figure size 640x480 with 2 Axes>"
            ],
            "image/png": "[encoded data removed]"
          },
          "metadata": {}
        }
      ]
    },
    {
      "cell_type": "markdown",
      "source": [
        "# **Mitigating Skewdness of Data**"
      ],
      "metadata": {
        "id": "AIKor_EbtlZ4"
      }
    },
    {
      "cell_type": "markdown",
      "source": [
        "A widely adopted technique for dealing with highly unbalanced datasets is called resampling. It consists of removing samples from the majority class (under-sampling) and / or adding more examples from the minority class (over-sampling).\n",
        "\n",
        "![download (6).png](data:image/png;base64,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)\n",
        "\n",
        "\n",
        "\n",
        "Despite the advantage of balancing classes, these techniques also have their weaknesses (there is no free lunch). The simplest implementation of over-sampling is to duplicate random records from the minority class, which can cause overfitting. In under-sampling, the simplest technique involves removing random records from the majority class, which can cause loss of information."
      ],
      "metadata": {
        "id": "tev_tdol0nIp"
      }
    },
    {
      "cell_type": "markdown",
      "source": [
        "#**Method-1 : Under Sampling**"
      ],
      "metadata": {
        "id": "wOhTDXhw25q_"
      }
    },
    {
      "cell_type": "code",
      "source": [
        "# Class count\n",
        "count_class_0, count_class_1 = data.Class.value_counts()\n",
        "\n",
        "# Divide by class\n",
        "df_class_0 = data[data['Class'] == 0]\n",
        "df_class_1 = data[data['Class'] == 1]\n",
        "print(\"Number of Safe transactions: \",len(df_class_0))\n",
        "print(\"Number of fraud transactions: \",len(df_class_1))"
      ],
      "metadata": {
        "colab": {
          "base_uri": "https://localhost:8080/"
        },
        "id": "Rm5FEykc0m2k",
        "outputId": "9882960a-daaf-4a68-cdd1-6dae56175243"
      },
      "execution_count": 40,
      "outputs": [
        {
          "output_type": "stream",
          "name": "stdout",
          "text": [
            "Number of Safe transactions:  5970\n",
            "Number of fraud transactions:  3\n"
          ]
        }
      ]
    },
    {
      "cell_type": "code",
      "source": [
        "# Undersample 0-class and concat the DataFrames of both class\n",
        "df_class_0_under = df_class_0.sample(count_class_1)\n",
        "df_test_under = pd.concat([df_class_0_under, df_class_1], axis=0)\n",
        "\n",
        "print('Random under-sampling:')\n",
        "print(df_test_under.Class.value_counts())"
      ],
      "metadata": {
        "colab": {
          "base_uri": "https://localhost:8080/"
        },
        "id": "Hymt3Y3J0mxo",
        "outputId": "469cdbb7-13f1-491c-8eb7-294f20598b66"
      },
      "execution_count": 41,
      "outputs": [
        {
          "output_type": "stream",
          "name": "stdout",
          "text": [
            "Random under-sampling:\n",
            "0.0    3\n",
            "1.0    3\n",
            "Name: Class, dtype: int64\n"
          ]
        }
      ]
    },
    {
      "cell_type": "markdown",
      "source": [
        "There is no use of performing undersampling as the data is very sample contaning only 3 samples "
      ],
      "metadata": {
        "id": "zavG2RjZ2vXL"
      }
    },
    {
      "cell_type": "markdown",
      "source": [
        "# **Method- 2: Oversampling**"
      ],
      "metadata": {
        "id": "5CjDc3D-7kmb"
      }
    },
    {
      "cell_type": "code",
      "source": [
        "# Oversample 1-class and concat the DataFrames of both classes\n",
        "df_class_1_over = df_class_1.sample(count_class_0, replace=True)\n",
        "df_test_over = pd.concat([df_class_0, df_class_1_over], axis=0)\n",
        "\n",
        "print('Random over-sampling:')\n",
        "print(df_test_over.Class.value_counts())"
      ],
      "metadata": {
        "colab": {
          "base_uri": "https://localhost:8080/"
        },
        "id": "MKLni4qU0msl",
        "outputId": "bab00ad0-0948-4e6a-bd2c-a9b29be5ffc5"
      },
      "execution_count": 42,
      "outputs": [
        {
          "output_type": "stream",
          "name": "stdout",
          "text": [
            "Random over-sampling:\n",
            "0.0    5970\n",
            "1.0    5970\n",
            "Name: Class, dtype: int64\n"
          ]
        }
      ]
    },
    {
      "cell_type": "code",
      "source": [
        "X = df_test_over.drop('Class',axis='columns')\n",
        "y = df_test_over['Class']\n",
        "\n",
        "from sklearn.model_selection import train_test_split\n",
        "X_train, X_test, y_train, y_test = train_test_split(X, y, test_size=0.2, random_state=15, stratify=y)"
      ],
      "metadata": {
        "id": "LEjwU9lQ0mnu"
      },
      "execution_count": 43,
      "outputs": []
    },
    {
      "cell_type": "code",
      "source": [
        "# Number of classes in training Data\n",
        "y_train.value_counts()"
      ],
      "metadata": {
        "colab": {
          "base_uri": "https://localhost:8080/"
        },
        "id": "AqI1TFAf0mlF",
        "outputId": "02f9945a-08c8-4901-9232-49ecd5ff8c49"
      },
      "execution_count": 44,
      "outputs": [
        {
          "output_type": "execute_result",
          "data": {
            "text/plain": [
              "1.0    4776\n",
              "0.0    4776\n",
              "Name: Class, dtype: int64"
            ]
          },
          "metadata": {},
          "execution_count": 44
        }
      ]
    },
    {
      "cell_type": "code",
      "source": [
        "loss = keras.losses.BinaryCrossentropy()\n",
        "weights = -1\n",
        "y_preds = ANN(X_train, y_train, X_test, y_test, 'binary_crossentropy', -1)"
      ],
      "metadata": {
        "colab": {
          "base_uri": "https://localhost:8080/"
        },
        "id": "GLJefiD10mhK",
        "outputId": "7e6e4da8-db61-49f8-cb3b-5b2dfa8edc7b"
      },
      "execution_count": 45,
      "outputs": [
        {
          "output_type": "stream",
          "name": "stdout",
          "text": [
            "Epoch 1/100\n",
            "299/299 [==============================] - 2s 3ms/step - loss: 4.4590 - accuracy: 0.8785\n",
            "Epoch 2/100\n",
            "299/299 [==============================] - 1s 4ms/step - loss: 0.0828 - accuracy: 0.9890\n",
            "Epoch 3/100\n",
            "299/299 [==============================] - 1s 5ms/step - loss: 0.0681 - accuracy: 0.9897\n",
            "Epoch 4/100\n",
            "299/299 [==============================] - 2s 7ms/step - loss: 0.0166 - accuracy: 0.9982\n",
            "Epoch 5/100\n",
            "299/299 [==============================] - 1s 5ms/step - loss: 0.0116 - accuracy: 0.9990\n",
            "Epoch 6/100\n",
            "299/299 [==============================] - 1s 4ms/step - loss: 0.0059 - accuracy: 0.9995\n",
            "Epoch 7/100\n",
            "299/299 [==============================] - 1s 3ms/step - loss: 0.0158 - accuracy: 0.9972\n",
            "Epoch 8/100\n",
            "299/299 [==============================] - 1s 4ms/step - loss: 0.0056 - accuracy: 0.9994\n",
            "Epoch 9/100\n",
            "299/299 [==============================] - 1s 2ms/step - loss: 0.0044 - accuracy: 0.9997\n",
            "Epoch 10/100\n",
            "299/299 [==============================] - 1s 3ms/step - loss: 0.0033 - accuracy: 0.9998\n",
            "Epoch 11/100\n",
            "299/299 [==============================] - 1s 2ms/step - loss: 0.0026 - accuracy: 0.9999\n",
            "Epoch 12/100\n",
            "299/299 [==============================] - 0s 2ms/step - loss: 0.0020 - accuracy: 0.9999\n",
            "Epoch 13/100\n",
            "299/299 [==============================] - 0s 2ms/step - loss: 0.0014 - accuracy: 0.9999\n",
            "Epoch 14/100\n",
            "299/299 [==============================] - 0s 2ms/step - loss: 0.0012 - accuracy: 0.9999\n",
            "Epoch 15/100\n",
            "299/299 [==============================] - 0s 2ms/step - loss: 0.0011 - accuracy: 0.9999\n",
            "Epoch 16/100\n",
            "299/299 [==============================] - 1s 2ms/step - loss: 9.9579e-04 - accuracy: 0.9999\n",
            "Epoch 17/100\n",
            "299/299 [==============================] - 1s 2ms/step - loss: 9.5489e-04 - accuracy: 0.9999\n",
            "Epoch 18/100\n",
            "299/299 [==============================] - 0s 2ms/step - loss: 0.0479 - accuracy: 0.9937\n",
            "Epoch 19/100\n",
            "299/299 [==============================] - 1s 2ms/step - loss: 0.0081 - accuracy: 0.9991\n",
            "Epoch 20/100\n",
            "299/299 [==============================] - 1s 2ms/step - loss: 0.0014 - accuracy: 0.9998\n",
            "Epoch 21/100\n",
            "299/299 [==============================] - 1s 2ms/step - loss: 0.0013 - accuracy: 0.9999\n",
            "Epoch 22/100\n",
            "299/299 [==============================] - 1s 2ms/step - loss: 0.0012 - accuracy: 0.9999\n",
            "Epoch 23/100\n",
            "299/299 [==============================] - 1s 2ms/step - loss: 0.0011 - accuracy: 0.9999\n",
            "Epoch 24/100\n",
            "299/299 [==============================] - 0s 2ms/step - loss: 0.0011 - accuracy: 0.9999\n",
            "Epoch 25/100\n",
            "299/299 [==============================] - 0s 2ms/step - loss: 0.0010 - accuracy: 0.9999\n",
            "Epoch 26/100\n",
            "299/299 [==============================] - 1s 2ms/step - loss: 9.9100e-04 - accuracy: 0.9999\n",
            "Epoch 27/100\n",
            "299/299 [==============================] - 1s 2ms/step - loss: 9.4680e-04 - accuracy: 0.9999\n",
            "Epoch 28/100\n",
            "299/299 [==============================] - 1s 2ms/step - loss: 9.5069e-04 - accuracy: 0.9999\n",
            "Epoch 29/100\n",
            "299/299 [==============================] - 0s 2ms/step - loss: 8.7114e-04 - accuracy: 0.9999\n",
            "Epoch 30/100\n",
            "299/299 [==============================] - 0s 2ms/step - loss: 8.8644e-04 - accuracy: 0.9999\n",
            "Epoch 31/100\n",
            "299/299 [==============================] - 1s 2ms/step - loss: 8.2866e-04 - accuracy: 0.9999\n",
            "Epoch 32/100\n",
            "299/299 [==============================] - 0s 2ms/step - loss: 0.0932 - accuracy: 0.9891\n",
            "Epoch 33/100\n",
            "299/299 [==============================] - 1s 2ms/step - loss: 0.0011 - accuracy: 0.9998\n",
            "Epoch 34/100\n",
            "299/299 [==============================] - 1s 2ms/step - loss: 0.0011 - accuracy: 0.9999\n",
            "Epoch 35/100\n",
            "299/299 [==============================] - 1s 2ms/step - loss: 9.9631e-04 - accuracy: 0.9999\n",
            "Epoch 36/100\n",
            "299/299 [==============================] - 1s 2ms/step - loss: 9.4875e-04 - accuracy: 0.9999\n",
            "Epoch 37/100\n",
            "299/299 [==============================] - 0s 2ms/step - loss: 9.0801e-04 - accuracy: 0.9999\n",
            "Epoch 38/100\n",
            "299/299 [==============================] - 1s 2ms/step - loss: 8.6567e-04 - accuracy: 0.9999\n",
            "Epoch 39/100\n",
            "299/299 [==============================] - 1s 2ms/step - loss: 8.4254e-04 - accuracy: 0.9999\n",
            "Epoch 40/100\n",
            "299/299 [==============================] - 0s 2ms/step - loss: 8.0624e-04 - accuracy: 0.9999\n",
            "Epoch 41/100\n",
            "299/299 [==============================] - 1s 2ms/step - loss: 7.7362e-04 - accuracy: 0.9999\n",
            "Epoch 42/100\n",
            "299/299 [==============================] - 0s 2ms/step - loss: 7.4649e-04 - accuracy: 0.9999\n",
            "Epoch 43/100\n",
            "299/299 [==============================] - 1s 2ms/step - loss: 7.2036e-04 - accuracy: 0.9999\n",
            "Epoch 44/100\n",
            "299/299 [==============================] - 1s 2ms/step - loss: 6.9722e-04 - accuracy: 0.9999\n",
            "Epoch 45/100\n",
            "299/299 [==============================] - 1s 2ms/step - loss: 6.7885e-04 - accuracy: 0.9999\n",
            "Epoch 46/100\n",
            "299/299 [==============================] - 1s 2ms/step - loss: 6.5381e-04 - accuracy: 0.9999\n",
            "Epoch 47/100\n",
            "299/299 [==============================] - 1s 2ms/step - loss: 6.5886e-04 - accuracy: 0.9999\n",
            "Epoch 48/100\n",
            "299/299 [==============================] - 1s 2ms/step - loss: 6.4639e-04 - accuracy: 0.9999\n",
            "Epoch 49/100\n",
            "299/299 [==============================] - 1s 2ms/step - loss: 6.3385e-04 - accuracy: 0.9999\n",
            "Epoch 50/100\n",
            "299/299 [==============================] - 1s 3ms/step - loss: 5.7112e-04 - accuracy: 0.9999\n",
            "Epoch 51/100\n",
            "299/299 [==============================] - 1s 2ms/step - loss: 0.0792 - accuracy: 0.9938\n",
            "Epoch 52/100\n",
            "299/299 [==============================] - 1s 2ms/step - loss: 9.6207e-04 - accuracy: 0.9999\n",
            "Epoch 53/100\n",
            "299/299 [==============================] - 1s 2ms/step - loss: 8.9409e-04 - accuracy: 0.9999\n",
            "Epoch 54/100\n",
            "299/299 [==============================] - 0s 2ms/step - loss: 8.4100e-04 - accuracy: 0.9999\n",
            "Epoch 55/100\n",
            "299/299 [==============================] - 0s 2ms/step - loss: 7.8484e-04 - accuracy: 0.9999\n",
            "Epoch 56/100\n",
            "299/299 [==============================] - 0s 2ms/step - loss: 7.2582e-04 - accuracy: 0.9999\n",
            "Epoch 57/100\n",
            "299/299 [==============================] - 0s 2ms/step - loss: 6.7247e-04 - accuracy: 0.9999\n",
            "Epoch 58/100\n",
            "299/299 [==============================] - 0s 2ms/step - loss: 5.8809e-04 - accuracy: 0.9999\n",
            "Epoch 59/100\n",
            "299/299 [==============================] - 1s 2ms/step - loss: 5.3228e-04 - accuracy: 0.9999\n",
            "Epoch 60/100\n",
            "299/299 [==============================] - 0s 2ms/step - loss: 4.9294e-04 - accuracy: 0.9999\n",
            "Epoch 61/100\n",
            "299/299 [==============================] - 0s 2ms/step - loss: 0.0401 - accuracy: 0.9965\n",
            "Epoch 62/100\n",
            "299/299 [==============================] - 0s 2ms/step - loss: 6.7196e-04 - accuracy: 0.9998\n",
            "Epoch 63/100\n",
            "299/299 [==============================] - 1s 2ms/step - loss: 4.1763e-04 - accuracy: 0.9999\n",
            "Epoch 64/100\n",
            "299/299 [==============================] - 0s 2ms/step - loss: 3.9336e-04 - accuracy: 0.9999\n",
            "Epoch 65/100\n",
            "299/299 [==============================] - 1s 2ms/step - loss: 3.8376e-04 - accuracy: 0.9999\n",
            "Epoch 66/100\n",
            "299/299 [==============================] - 1s 2ms/step - loss: 3.6878e-04 - accuracy: 0.9999\n",
            "Epoch 67/100\n",
            "299/299 [==============================] - 1s 2ms/step - loss: 3.7098e-04 - accuracy: 0.9999\n",
            "Epoch 68/100\n",
            "299/299 [==============================] - 1s 2ms/step - loss: 0.0981 - accuracy: 0.9959\n",
            "Epoch 69/100\n",
            "299/299 [==============================] - 1s 2ms/step - loss: 0.1023 - accuracy: 0.9901\n",
            "Epoch 70/100\n",
            "299/299 [==============================] - 0s 2ms/step - loss: 0.0010 - accuracy: 0.9998\n",
            "Epoch 71/100\n",
            "299/299 [==============================] - 0s 2ms/step - loss: 9.7166e-04 - accuracy: 0.9998\n",
            "Epoch 72/100\n",
            "299/299 [==============================] - 1s 2ms/step - loss: 9.2295e-04 - accuracy: 0.9998\n",
            "Epoch 73/100\n",
            "299/299 [==============================] - 0s 2ms/step - loss: 8.7521e-04 - accuracy: 0.9998\n",
            "Epoch 74/100\n",
            "299/299 [==============================] - 0s 2ms/step - loss: 8.2426e-04 - accuracy: 0.9998\n",
            "Epoch 75/100\n",
            "299/299 [==============================] - 0s 2ms/step - loss: 7.8462e-04 - accuracy: 0.9999\n",
            "Epoch 76/100\n",
            "299/299 [==============================] - 1s 2ms/step - loss: 7.5385e-04 - accuracy: 0.9999\n",
            "Epoch 77/100\n",
            "299/299 [==============================] - 0s 2ms/step - loss: 7.1995e-04 - accuracy: 0.9999\n",
            "Epoch 78/100\n",
            "299/299 [==============================] - 1s 2ms/step - loss: 6.8108e-04 - accuracy: 0.9999\n",
            "Epoch 79/100\n",
            "299/299 [==============================] - 0s 2ms/step - loss: 6.4358e-04 - accuracy: 0.9999\n",
            "Epoch 80/100\n",
            "299/299 [==============================] - 1s 2ms/step - loss: 6.1344e-04 - accuracy: 0.9999\n",
            "Epoch 81/100\n",
            "299/299 [==============================] - 0s 2ms/step - loss: 6.0196e-04 - accuracy: 0.9999\n",
            "Epoch 82/100\n",
            "299/299 [==============================] - 1s 2ms/step - loss: 5.5564e-04 - accuracy: 0.9999\n",
            "Epoch 83/100\n",
            "299/299 [==============================] - 0s 2ms/step - loss: 3.9611e-04 - accuracy: 0.9999\n",
            "Epoch 84/100\n",
            "299/299 [==============================] - 1s 2ms/step - loss: 5.3877e-04 - accuracy: 0.9999\n",
            "Epoch 85/100\n",
            "299/299 [==============================] - 0s 2ms/step - loss: 5.0132e-04 - accuracy: 0.9999\n",
            "Epoch 86/100\n",
            "299/299 [==============================] - 0s 2ms/step - loss: 3.8055e-04 - accuracy: 0.9999\n",
            "Epoch 87/100\n",
            "299/299 [==============================] - 1s 2ms/step - loss: 3.1094e-04 - accuracy: 0.9999\n",
            "Epoch 88/100\n",
            "299/299 [==============================] - 0s 2ms/step - loss: 2.5494e-04 - accuracy: 0.9999\n",
            "Epoch 89/100\n",
            "299/299 [==============================] - 1s 2ms/step - loss: 0.1127 - accuracy: 0.9894\n",
            "Epoch 90/100\n",
            "299/299 [==============================] - 1s 2ms/step - loss: 6.9277e-04 - accuracy: 0.9999\n",
            "Epoch 91/100\n",
            "299/299 [==============================] - 1s 2ms/step - loss: 6.4539e-04 - accuracy: 0.9999\n",
            "Epoch 92/100\n",
            "299/299 [==============================] - 1s 2ms/step - loss: 6.0083e-04 - accuracy: 0.9999\n",
            "Epoch 93/100\n",
            "299/299 [==============================] - 1s 2ms/step - loss: 5.5384e-04 - accuracy: 0.9999\n",
            "Epoch 94/100\n",
            "299/299 [==============================] - 0s 2ms/step - loss: 5.0476e-04 - accuracy: 0.9999\n",
            "Epoch 95/100\n",
            "299/299 [==============================] - 1s 2ms/step - loss: 4.5479e-04 - accuracy: 0.9999\n",
            "Epoch 96/100\n",
            "299/299 [==============================] - 0s 2ms/step - loss: 4.1405e-04 - accuracy: 0.9999\n",
            "Epoch 97/100\n",
            "299/299 [==============================] - 1s 2ms/step - loss: 3.6529e-04 - accuracy: 0.9999\n",
            "Epoch 98/100\n",
            "299/299 [==============================] - 1s 2ms/step - loss: 3.1843e-04 - accuracy: 0.9999\n",
            "Epoch 99/100\n",
            "299/299 [==============================] - 1s 2ms/step - loss: 2.8054e-04 - accuracy: 0.9999\n",
            "Epoch 100/100\n",
            "299/299 [==============================] - 0s 2ms/step - loss: 2.5039e-04 - accuracy: 0.9999\n",
            "75/75 [==============================] - 0s 2ms/step - loss: 0.0024 - accuracy: 0.9996\n",
            "[0.002405450912192464, 0.9995812177658081]\n",
            "75/75 [==============================] - 0s 1ms/step\n",
            "Classification Report: \n",
            "               precision    recall  f1-score   support\n",
            "\n",
            "         0.0       1.00      1.00      1.00      1194\n",
            "         1.0       1.00      1.00      1.00      1194\n",
            "\n",
            "    accuracy                           1.00      2388\n",
            "   macro avg       1.00      1.00      1.00      2388\n",
            "weighted avg       1.00      1.00      1.00      2388\n",
            "\n"
          ]
        }
      ]
    },
    {
      "cell_type": "markdown",
      "source": [
        "#**Method-3: SMOTE**"
      ],
      "metadata": {
        "id": "pZ34nbIL-l18"
      }
    },
    {
      "cell_type": "markdown",
      "source": [
        "To install imbalanced-learn library use **pip install imbalanced-learn** command"
      ],
      "metadata": {
        "id": "iEmmP37i-vKg"
      }
    },
    {
      "cell_type": "code",
      "source": [
        "!pip install imbalanced-learn"
      ],
      "metadata": {
        "colab": {
          "base_uri": "https://localhost:8080/"
        },
        "id": "ULoMc75W8EFX",
        "outputId": "8360fb5b-c955-46b5-bf25-68d686e6fc7e"
      },
      "execution_count": 46,
      "outputs": [
        {
          "output_type": "stream",
          "name": "stdout",
          "text": [
            "Looking in indexes: https://pypi.org/simple, https://us-python.pkg.dev/colab-wheels/public/simple/\n",
            "Requirement already satisfied: imbalanced-learn in /usr/local/lib/python3.10/dist-packages (0.10.1)\n",
            "Requirement already satisfied: numpy>=1.17.3 in /usr/local/lib/python3.10/dist-packages (from imbalanced-learn) (1.22.4)\n",
            "Requirement already satisfied: scipy>=1.3.2 in /usr/local/lib/python3.10/dist-packages (from imbalanced-learn) (1.10.1)\n",
            "Requirement already satisfied: scikit-learn>=1.0.2 in /usr/local/lib/python3.10/dist-packages (from imbalanced-learn) (1.2.2)\n",
            "Requirement already satisfied: joblib>=1.1.1 in /usr/local/lib/python3.10/dist-packages (from imbalanced-learn) (1.2.0)\n",
            "Requirement already satisfied: threadpoolctl>=2.0.0 in /usr/local/lib/python3.10/dist-packages (from imbalanced-learn) (3.1.0)\n"
          ]
        }
      ]
    },
    {
      "cell_type": "code",
      "source": [],
      "metadata": {
        "id": "aaI3JmkD8JpS"
      },
      "execution_count": 48,
      "outputs": []
    },
    {
      "cell_type": "code",
      "source": [
        "from imblearn.over_sampling import SMOTE\n",
        "\n",
        "X_sm, y_sm = SMOTE(k_neighbors=2,sampling_strategy='minority').fit_resample(X,y)\n",
        "\n",
        "y_sm.value_counts()"
      ],
      "metadata": {
        "colab": {
          "base_uri": "https://localhost:8080/"
        },
        "id": "EFbMWjFd8Jkf",
        "outputId": "9be74d4d-f3c1-40da-937c-bbbadc77ef23"
      },
      "execution_count": 60,
      "outputs": [
        {
          "output_type": "execute_result",
          "data": {
            "text/plain": [
              "0.0    5970\n",
              "1.0    5970\n",
              "Name: Class, dtype: int64"
            ]
          },
          "metadata": {},
          "execution_count": 60
        }
      ]
    },
    {
      "cell_type": "code",
      "source": [
        "from sklearn.model_selection import train_test_split\n",
        "X_train, X_test, y_train, y_test = train_test_split(X_sm, y_sm, test_size=0.2, random_state=15, stratify=y_sm)"
      ],
      "metadata": {
        "id": "e9iwhxzl8JgT"
      },
      "execution_count": 61,
      "outputs": []
    },
    {
      "cell_type": "code",
      "source": [
        "# Number of classes in training Data\n",
        "y_train.value_counts()"
      ],
      "metadata": {
        "colab": {
          "base_uri": "https://localhost:8080/"
        },
        "id": "ssvGzoF28Jdo",
        "outputId": "7c9f24dd-dfb2-415f-e12f-b1b1bc38ed8e"
      },
      "execution_count": 62,
      "outputs": [
        {
          "output_type": "execute_result",
          "data": {
            "text/plain": [
              "1.0    4776\n",
              "0.0    4776\n",
              "Name: Class, dtype: int64"
            ]
          },
          "metadata": {},
          "execution_count": 62
        }
      ]
    },
    {
      "cell_type": "code",
      "source": [
        "y_preds = ANN(X_train, y_train, X_test, y_test, 'binary_crossentropy', -1)\n"
      ],
      "metadata": {
        "colab": {
          "base_uri": "https://localhost:8080/"
        },
        "id": "ljaadchb8Jau",
        "outputId": "917286e5-29ef-4496-d1a5-6085a39afce6"
      },
      "execution_count": 63,
      "outputs": [
        {
          "output_type": "stream",
          "name": "stdout",
          "text": [
            "Epoch 1/100\n",
            "299/299 [==============================] - 1s 2ms/step - loss: 3.3609 - accuracy: 0.8424\n",
            "Epoch 2/100\n",
            "299/299 [==============================] - 0s 2ms/step - loss: 0.0984 - accuracy: 0.9719\n",
            "Epoch 3/100\n",
            "299/299 [==============================] - 0s 2ms/step - loss: 0.1150 - accuracy: 0.9693\n",
            "Epoch 4/100\n",
            "299/299 [==============================] - 1s 2ms/step - loss: 0.0194 - accuracy: 0.9981\n",
            "Epoch 5/100\n",
            "299/299 [==============================] - 0s 2ms/step - loss: 0.0160 - accuracy: 0.9984\n",
            "Epoch 6/100\n",
            "299/299 [==============================] - 1s 2ms/step - loss: 0.0150 - accuracy: 0.9982\n",
            "Epoch 7/100\n",
            "299/299 [==============================] - 0s 2ms/step - loss: 0.0121 - accuracy: 0.9986\n",
            "Epoch 8/100\n",
            "299/299 [==============================] - 1s 2ms/step - loss: 0.0113 - accuracy: 0.9984\n",
            "Epoch 9/100\n",
            "299/299 [==============================] - 0s 2ms/step - loss: 0.1070 - accuracy: 0.9785\n",
            "Epoch 10/100\n",
            "299/299 [==============================] - 1s 2ms/step - loss: 0.0073 - accuracy: 0.9990\n",
            "Epoch 11/100\n",
            "299/299 [==============================] - 1s 2ms/step - loss: 0.0061 - accuracy: 0.9991\n",
            "Epoch 12/100\n",
            "299/299 [==============================] - 1s 2ms/step - loss: 0.0050 - accuracy: 0.9992\n",
            "Epoch 13/100\n",
            "299/299 [==============================] - 0s 2ms/step - loss: 0.0049 - accuracy: 0.9994\n",
            "Epoch 14/100\n",
            "299/299 [==============================] - 0s 2ms/step - loss: 0.0051 - accuracy: 0.9991\n",
            "Epoch 15/100\n",
            "299/299 [==============================] - 1s 2ms/step - loss: 0.3793 - accuracy: 0.9714\n",
            "Epoch 16/100\n",
            "299/299 [==============================] - 1s 2ms/step - loss: 0.0068 - accuracy: 0.9991\n",
            "Epoch 17/100\n",
            "299/299 [==============================] - 1s 2ms/step - loss: 0.0049 - accuracy: 0.9995\n",
            "Epoch 18/100\n",
            "299/299 [==============================] - 1s 2ms/step - loss: 0.0051 - accuracy: 0.9993\n",
            "Epoch 19/100\n",
            "299/299 [==============================] - 1s 2ms/step - loss: 0.0040 - accuracy: 0.9996\n",
            "Epoch 20/100\n",
            "299/299 [==============================] - 1s 2ms/step - loss: 0.0359 - accuracy: 0.9927\n",
            "Epoch 21/100\n",
            "299/299 [==============================] - 1s 2ms/step - loss: 0.0050 - accuracy: 0.9995\n",
            "Epoch 22/100\n",
            "299/299 [==============================] - 1s 2ms/step - loss: 0.0038 - accuracy: 0.9994\n",
            "Epoch 23/100\n",
            "299/299 [==============================] - 1s 2ms/step - loss: 0.0047 - accuracy: 0.9993\n",
            "Epoch 24/100\n",
            "299/299 [==============================] - 0s 2ms/step - loss: 0.0034 - accuracy: 0.9998\n",
            "Epoch 25/100\n",
            "299/299 [==============================] - 0s 2ms/step - loss: 0.0031 - accuracy: 0.9998\n",
            "Epoch 26/100\n",
            "299/299 [==============================] - 1s 2ms/step - loss: 0.0029 - accuracy: 0.9998\n",
            "Epoch 27/100\n",
            "299/299 [==============================] - 0s 2ms/step - loss: 0.0028 - accuracy: 0.9998\n",
            "Epoch 28/100\n",
            "299/299 [==============================] - 1s 2ms/step - loss: 0.0026 - accuracy: 0.9998\n",
            "Epoch 29/100\n",
            "299/299 [==============================] - 0s 2ms/step - loss: 0.0028 - accuracy: 0.9997\n",
            "Epoch 30/100\n",
            "299/299 [==============================] - 1s 2ms/step - loss: 0.0349 - accuracy: 0.9952\n",
            "Epoch 31/100\n",
            "299/299 [==============================] - 0s 2ms/step - loss: 0.0068 - accuracy: 0.9984\n",
            "Epoch 32/100\n",
            "299/299 [==============================] - 1s 2ms/step - loss: 0.0030 - accuracy: 0.9997\n",
            "Epoch 33/100\n",
            "299/299 [==============================] - 0s 2ms/step - loss: 0.0026 - accuracy: 0.9998\n",
            "Epoch 34/100\n",
            "299/299 [==============================] - 0s 2ms/step - loss: 0.0025 - accuracy: 0.9998\n",
            "Epoch 35/100\n",
            "299/299 [==============================] - 0s 2ms/step - loss: 0.0024 - accuracy: 0.9998\n",
            "Epoch 36/100\n",
            "299/299 [==============================] - 0s 2ms/step - loss: 0.0023 - accuracy: 0.9998\n",
            "Epoch 37/100\n",
            "299/299 [==============================] - 1s 2ms/step - loss: 0.0023 - accuracy: 0.9998\n",
            "Epoch 38/100\n",
            "299/299 [==============================] - 0s 2ms/step - loss: 0.0021 - accuracy: 0.9998\n",
            "Epoch 39/100\n",
            "299/299 [==============================] - 0s 2ms/step - loss: 0.0021 - accuracy: 0.9998\n",
            "Epoch 40/100\n",
            "299/299 [==============================] - 0s 2ms/step - loss: 0.2196 - accuracy: 0.9835\n",
            "Epoch 41/100\n",
            "299/299 [==============================] - 1s 2ms/step - loss: 0.0154 - accuracy: 0.9976\n",
            "Epoch 42/100\n",
            "299/299 [==============================] - 1s 2ms/step - loss: 0.0020 - accuracy: 0.9995\n",
            "Epoch 43/100\n",
            "299/299 [==============================] - 1s 2ms/step - loss: 0.0018 - accuracy: 0.9997\n",
            "Epoch 44/100\n",
            "299/299 [==============================] - 1s 2ms/step - loss: 0.0017 - accuracy: 0.9997\n",
            "Epoch 45/100\n",
            "299/299 [==============================] - 1s 2ms/step - loss: 0.0015 - accuracy: 0.9998\n",
            "Epoch 46/100\n",
            "299/299 [==============================] - 0s 2ms/step - loss: 0.0014 - accuracy: 0.9998\n",
            "Epoch 47/100\n",
            "299/299 [==============================] - 0s 2ms/step - loss: 0.0012 - accuracy: 0.9998\n",
            "Epoch 48/100\n",
            "299/299 [==============================] - 0s 2ms/step - loss: 0.0012 - accuracy: 0.9998\n",
            "Epoch 49/100\n",
            "299/299 [==============================] - 0s 2ms/step - loss: 0.0011 - accuracy: 0.9998\n",
            "Epoch 50/100\n",
            "299/299 [==============================] - 0s 2ms/step - loss: 0.0010 - accuracy: 0.9998\n",
            "Epoch 51/100\n",
            "299/299 [==============================] - 1s 2ms/step - loss: 0.0010 - accuracy: 0.9998\n",
            "Epoch 52/100\n",
            "299/299 [==============================] - 1s 2ms/step - loss: 9.0105e-04 - accuracy: 0.9998\n",
            "Epoch 53/100\n",
            "299/299 [==============================] - 1s 3ms/step - loss: 8.8907e-04 - accuracy: 0.9998\n",
            "Epoch 54/100\n",
            "299/299 [==============================] - 1s 3ms/step - loss: 8.2677e-04 - accuracy: 0.9998\n",
            "Epoch 55/100\n",
            "299/299 [==============================] - 1s 3ms/step - loss: 7.9006e-04 - accuracy: 0.9998\n",
            "Epoch 56/100\n",
            "299/299 [==============================] - 1s 2ms/step - loss: 6.8695e-04 - accuracy: 0.9998\n",
            "Epoch 57/100\n",
            "299/299 [==============================] - 1s 2ms/step - loss: 6.9618e-04 - accuracy: 0.9999\n",
            "Epoch 58/100\n",
            "299/299 [==============================] - 1s 2ms/step - loss: 0.1090 - accuracy: 0.9905\n",
            "Epoch 59/100\n",
            "299/299 [==============================] - 0s 2ms/step - loss: 0.0156 - accuracy: 0.9975\n",
            "Epoch 60/100\n",
            "299/299 [==============================] - 1s 2ms/step - loss: 0.0011 - accuracy: 0.9998\n",
            "Epoch 61/100\n",
            "299/299 [==============================] - 1s 2ms/step - loss: 9.0891e-04 - accuracy: 0.9998\n",
            "Epoch 62/100\n",
            "299/299 [==============================] - 1s 2ms/step - loss: 8.0342e-04 - accuracy: 0.9998\n",
            "Epoch 63/100\n",
            "299/299 [==============================] - 1s 2ms/step - loss: 6.7491e-04 - accuracy: 0.9999\n",
            "Epoch 64/100\n",
            "299/299 [==============================] - 1s 2ms/step - loss: 5.9367e-04 - accuracy: 0.9999\n",
            "Epoch 65/100\n",
            "299/299 [==============================] - 1s 2ms/step - loss: 5.3277e-04 - accuracy: 0.9999\n",
            "Epoch 66/100\n",
            "299/299 [==============================] - 1s 2ms/step - loss: 4.7042e-04 - accuracy: 0.9999\n",
            "Epoch 67/100\n",
            "299/299 [==============================] - 1s 2ms/step - loss: 4.1395e-04 - accuracy: 0.9999\n",
            "Epoch 68/100\n",
            "299/299 [==============================] - 1s 2ms/step - loss: 0.0014 - accuracy: 0.9996\n",
            "Epoch 69/100\n",
            "299/299 [==============================] - 0s 2ms/step - loss: 6.5180e-04 - accuracy: 0.9998\n",
            "Epoch 70/100\n",
            "299/299 [==============================] - 1s 2ms/step - loss: 4.1633e-04 - accuracy: 0.9999\n",
            "Epoch 71/100\n",
            "299/299 [==============================] - 0s 2ms/step - loss: 3.7576e-04 - accuracy: 0.9999\n",
            "Epoch 72/100\n",
            "299/299 [==============================] - 1s 2ms/step - loss: 3.2834e-04 - accuracy: 0.9999\n",
            "Epoch 73/100\n",
            "299/299 [==============================] - 0s 2ms/step - loss: 2.4253e-04 - accuracy: 0.9999\n",
            "Epoch 74/100\n",
            "299/299 [==============================] - 1s 2ms/step - loss: 2.6092e-04 - accuracy: 0.9999\n",
            "Epoch 75/100\n",
            "299/299 [==============================] - 1s 2ms/step - loss: 2.2947e-04 - accuracy: 0.9999\n",
            "Epoch 76/100\n",
            "299/299 [==============================] - 0s 2ms/step - loss: 0.0691 - accuracy: 0.9914\n",
            "Epoch 77/100\n",
            "299/299 [==============================] - 1s 2ms/step - loss: 0.0029 - accuracy: 0.9994\n",
            "Epoch 78/100\n",
            "299/299 [==============================] - 1s 2ms/step - loss: 0.0020 - accuracy: 0.9997\n",
            "Epoch 79/100\n",
            "299/299 [==============================] - 1s 2ms/step - loss: 0.0018 - accuracy: 0.9998\n",
            "Epoch 80/100\n",
            "299/299 [==============================] - 1s 2ms/step - loss: 0.0015 - accuracy: 0.9998\n",
            "Epoch 81/100\n",
            "299/299 [==============================] - 1s 2ms/step - loss: 0.0013 - accuracy: 0.9998\n",
            "Epoch 82/100\n",
            "299/299 [==============================] - 1s 2ms/step - loss: 0.0011 - accuracy: 0.9998\n",
            "Epoch 83/100\n",
            "299/299 [==============================] - 1s 2ms/step - loss: 8.3261e-04 - accuracy: 0.9998\n",
            "Epoch 84/100\n",
            "299/299 [==============================] - 1s 2ms/step - loss: 5.9569e-04 - accuracy: 0.9998\n",
            "Epoch 85/100\n",
            "299/299 [==============================] - 1s 2ms/step - loss: 4.7231e-04 - accuracy: 0.9999\n",
            "Epoch 86/100\n",
            "299/299 [==============================] - 1s 2ms/step - loss: 3.3844e-04 - accuracy: 0.9999\n",
            "Epoch 87/100\n",
            "299/299 [==============================] - 1s 2ms/step - loss: 4.1665e-04 - accuracy: 0.9999\n",
            "Epoch 88/100\n",
            "299/299 [==============================] - 1s 3ms/step - loss: 2.2108e-04 - accuracy: 0.9999\n",
            "Epoch 89/100\n",
            "299/299 [==============================] - 1s 2ms/step - loss: 1.7066e-04 - accuracy: 0.9999\n",
            "Epoch 90/100\n",
            "299/299 [==============================] - 1s 2ms/step - loss: 1.5456e-04 - accuracy: 0.9999\n",
            "Epoch 91/100\n",
            "299/299 [==============================] - 1s 2ms/step - loss: 1.4022e-04 - accuracy: 1.0000\n",
            "Epoch 92/100\n",
            "299/299 [==============================] - 1s 2ms/step - loss: 1.2917e-04 - accuracy: 1.0000\n",
            "Epoch 93/100\n",
            "299/299 [==============================] - 0s 2ms/step - loss: 1.1941e-04 - accuracy: 1.0000\n",
            "Epoch 94/100\n",
            "299/299 [==============================] - 0s 2ms/step - loss: 1.0607e-04 - accuracy: 1.0000\n",
            "Epoch 95/100\n",
            "299/299 [==============================] - 1s 2ms/step - loss: 1.0651e-04 - accuracy: 1.0000\n",
            "Epoch 96/100\n",
            "299/299 [==============================] - 1s 2ms/step - loss: 9.6292e-05 - accuracy: 1.0000\n",
            "Epoch 97/100\n",
            "299/299 [==============================] - 1s 2ms/step - loss: 8.7387e-05 - accuracy: 1.0000\n",
            "Epoch 98/100\n",
            "299/299 [==============================] - 1s 2ms/step - loss: 6.6957e-05 - accuracy: 1.0000\n",
            "Epoch 99/100\n",
            "299/299 [==============================] - 1s 2ms/step - loss: 7.4083e-05 - accuracy: 1.0000\n",
            "Epoch 100/100\n",
            "299/299 [==============================] - 1s 2ms/step - loss: 6.3604e-05 - accuracy: 1.0000\n",
            "75/75 [==============================] - 0s 1ms/step - loss: 4.2541e-05 - accuracy: 1.0000\n",
            "[4.25405269197654e-05, 1.0]\n",
            "75/75 [==============================] - 0s 1ms/step\n",
            "Classification Report: \n",
            "               precision    recall  f1-score   support\n",
            "\n",
            "         0.0       1.00      1.00      1.00      1194\n",
            "         1.0       1.00      1.00      1.00      1194\n",
            "\n",
            "    accuracy                           1.00      2388\n",
            "   macro avg       1.00      1.00      1.00      2388\n",
            "weighted avg       1.00      1.00      1.00      2388\n",
            "\n"
          ]
        }
      ]
    },
    {
      "cell_type": "markdown",
      "source": [
        "# **Method-4: Use of Ensemble with undersampling**"
      ],
      "metadata": {
        "id": "dIQC6g6GAKaJ"
      }
    },
    {
      "cell_type": "code",
      "source": [
        "data.Class.value_counts()"
      ],
      "metadata": {
        "colab": {
          "base_uri": "https://localhost:8080/"
        },
        "id": "LT6tIp3i8JWQ",
        "outputId": "d486cc92-53c0-4331-e1da-d96094881d6d"
      },
      "execution_count": 65,
      "outputs": [
        {
          "output_type": "execute_result",
          "data": {
            "text/plain": [
              "0.0    5970\n",
              "1.0       3\n",
              "Name: Class, dtype: int64"
            ]
          },
          "metadata": {},
          "execution_count": 65
        }
      ]
    },
    {
      "cell_type": "code",
      "source": [
        "X=data.drop('Class',axis=1)\n",
        "y=data['Class']\n",
        "from sklearn.model_selection import train_test_split\n",
        "X_train, X_test, y_train, y_test = train_test_split(X, y, test_size=0.2, random_state=15, stratify=y)"
      ],
      "metadata": {
        "id": "EurfkeyGAZcg"
      },
      "execution_count": 67,
      "outputs": []
    },
    {
      "cell_type": "code",
      "source": [
        "y_train.value_counts()"
      ],
      "metadata": {
        "colab": {
          "base_uri": "https://localhost:8080/"
        },
        "id": "fmTuvlNhAZWl",
        "outputId": "dfcaa2b1-e319-4f78-e36f-8116b79bdf58"
      },
      "execution_count": 68,
      "outputs": [
        {
          "output_type": "execute_result",
          "data": {
            "text/plain": [
              "0.0    4776\n",
              "1.0       2\n",
              "Name: Class, dtype: int64"
            ]
          },
          "metadata": {},
          "execution_count": 68
        }
      ]
    },
    {
      "cell_type": "markdown",
      "source": [
        "Here as the y dataset is too small if we divide the x in ratio of y then we have create total 2000 predictions and then combine then all , so because of this the method of ensaemble with undersampling is not preferred over here\n"
      ],
      "metadata": {
        "id": "pjoUu348Av79"
      }
    },
    {
      "cell_type": "markdown",
      "source": [
        "So to conclude we can see that for the **credit card prediction model** to handle the skewdness (imbalance) data we can use **Oversampling** or **Smote method** and then use **ANN model** for classification "
      ],
      "metadata": {
        "id": "d6eNKAgGBk6q"
      }
    },
    {
      "cell_type": "code",
      "source": [],
      "metadata": {
        "id": "QfDfNcjGBPPK"
      },
      "execution_count": null,
      "outputs": []
    }
  ],
  "metadata": {
    "kernelspec": {
      "display_name": "Python 3",
      "language": "python",
      "name": "python3"
    },
    "language_info": {
      "codemirror_mode": {
        "name": "ipython",
        "version": 3
      },
      "file_extension": ".py",
      "mimetype": "text/x-python",
      "name": "python",
      "nbconvert_exporter": "python",
      "pygments_lexer": "ipython3",
      "version": "3.7.3"
    },
    "colab": {
      "provenance": [],
      "toc_visible": true,
      "include_colab_link": true
    }
  },
  "nbformat": 4,
  "nbformat_minor": 0
}